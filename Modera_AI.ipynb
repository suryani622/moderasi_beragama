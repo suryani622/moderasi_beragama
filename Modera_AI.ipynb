{
  "nbformat": 4,
  "nbformat_minor": 0,
  "metadata": {
    "colab": {
      "provenance": [],
      "gpuType": "T4"
    },
    "kernelspec": {
      "name": "python3",
      "display_name": "Python 3"
    },
    "language_info": {
      "name": "python"
    },
    "accelerator": "GPU"
  },
  "cells": [
    {
      "cell_type": "code",
      "execution_count": null,
      "metadata": {
        "colab": {
          "base_uri": "https://localhost:8080/"
        },
        "id": "w2ftsNeryg0o",
        "outputId": "010ed665-0b41-4830-d39a-9564152b7bcc"
      },
      "outputs": [
        {
          "output_type": "stream",
          "name": "stdout",
          "text": [
            "Mounted at /content/drive\n"
          ]
        }
      ],
      "source": [
        "from google.colab import drive\n",
        "drive.mount('/content/drive')"
      ]
    },
    {
      "cell_type": "code",
      "source": [
        "!pip install keras-preprocessing\n",
        "!pip install Sastrawi"
      ],
      "metadata": {
        "colab": {
          "base_uri": "https://localhost:8080/"
        },
        "id": "ksLEJNBDy6yj",
        "outputId": "0d1c31b5-bc33-486e-9cf5-4e1c5a2f18c5"
      },
      "execution_count": 5,
      "outputs": [
        {
          "output_type": "stream",
          "name": "stdout",
          "text": [
            "Collecting keras-preprocessing\n",
            "  Downloading Keras_Preprocessing-1.1.2-py2.py3-none-any.whl.metadata (1.9 kB)\n",
            "Requirement already satisfied: numpy>=1.9.1 in /usr/local/lib/python3.12/dist-packages (from keras-preprocessing) (2.0.2)\n",
            "Requirement already satisfied: six>=1.9.0 in /usr/local/lib/python3.12/dist-packages (from keras-preprocessing) (1.17.0)\n",
            "Downloading Keras_Preprocessing-1.1.2-py2.py3-none-any.whl (42 kB)\n",
            "\u001b[?25l   \u001b[90m━━━━━━━━━━━━━━━━━━━━━━━━━━━━━━━━━━━━━━━━\u001b[0m \u001b[32m0.0/42.6 kB\u001b[0m \u001b[31m?\u001b[0m eta \u001b[36m-:--:--\u001b[0m\r\u001b[2K   \u001b[90m━━━━━━━━━━━━━━━━━━━━━━━━━━━━━━━━━━━━━━━━\u001b[0m \u001b[32m42.6/42.6 kB\u001b[0m \u001b[31m3.1 MB/s\u001b[0m eta \u001b[36m0:00:00\u001b[0m\n",
            "\u001b[?25hInstalling collected packages: keras-preprocessing\n",
            "Successfully installed keras-preprocessing-1.1.2\n",
            "Collecting Sastrawi\n",
            "  Downloading Sastrawi-1.0.1-py2.py3-none-any.whl.metadata (909 bytes)\n",
            "Downloading Sastrawi-1.0.1-py2.py3-none-any.whl (209 kB)\n",
            "\u001b[2K   \u001b[90m━━━━━━━━━━━━━━━━━━━━━━━━━━━━━━━━━━━━━━━━\u001b[0m \u001b[32m209.7/209.7 kB\u001b[0m \u001b[31m18.3 MB/s\u001b[0m eta \u001b[36m0:00:00\u001b[0m\n",
            "\u001b[?25hInstalling collected packages: Sastrawi\n",
            "Successfully installed Sastrawi-1.0.1\n"
          ]
        }
      ]
    },
    {
      "cell_type": "code",
      "source": [
        "import os\n",
        "import re\n",
        "import requests\n",
        "import zipfile\n",
        "import io\n",
        "import codecs\n",
        "import numpy as np\n",
        "import tensorflow as tf\n",
        "from tensorflow.keras.preprocessing.text import Tokenizer\n",
        "from tensorflow.keras.preprocessing.sequence import pad_sequences\n",
        "from tensorflow.keras.utils import to_categorical\n",
        "from tensorflow.keras.models import Model\n",
        "from tensorflow.keras.layers import Input, Dense, Embedding, Concatenate, LSTM, Bidirectional\n",
        "import matplotlib.pyplot as plt\n",
        "import warnings\n",
        "warnings.filterwarnings('ignore')"
      ],
      "metadata": {
        "id": "sAkC5sBiy_Fl"
      },
      "execution_count": 6,
      "outputs": []
    },
    {
      "cell_type": "code",
      "source": [
        "#load dataset\n",
        "path = '/content/drive/MyDrive/Modera/dataset_moderaAI.txt'\n",
        "\n",
        "import re\n",
        "from Sastrawi.Stemmer.StemmerFactory import StemmerFactory\n",
        "\n",
        "#inisialisasi stemmer\n",
        "factory = StemmerFactory()\n",
        "stemmer = factory.create_stemmer()\n",
        "\n",
        "def get_data(path):\n",
        "  data = []\n",
        "  with open(path, 'r', encoding='utf-8') as file:\n",
        "    lines = file.readlines()\n",
        "    for line in lines:\n",
        "      #format file: question \\t answer\n",
        "      question, answer = line.strip().split('\\t')\n",
        "      data.append((question, answer))\n",
        "  return data\n",
        "\n",
        "\n",
        "#clean data\n",
        "def clean_data(data_to_clean, lemmatize=False):\n",
        "  text = data_to_clean.lower() #---lower case\n",
        "  text = re.sub(r\"[^a-zA-Z0-9\\s<>]\", \"\", text)\n",
        "  words = text.split()\n",
        "  if lemmatize:\n",
        "    words = [stemmer.stem(word) for word in words]\n",
        "  return ' '.join(words)\n",
        "\n",
        "#clean question answer\n",
        "def clean_q_and_a(conversations):\n",
        "  ctx_and_target = []\n",
        "  for question, answer in (conversations):\n",
        "    cleaned_question = clean_data(question, lemmatize=False) #non aktifkan lemma question\n",
        "    cleaned_answer = '<START> ' + clean_data(answer, lemmatize=False) + ' <END>'\n",
        "    ctx_and_target.append((cleaned_question, cleaned_answer))\n",
        "\n",
        "  #pisahkan jadi list question n answer\n",
        "  context, target = zip(*ctx_and_target)\n",
        "  return list(context), list(target)\n",
        "\n",
        "#get all conversation\n",
        "data = get_data(path)\n",
        "\n",
        "#bersihkan question n answer\n",
        "cleaned_questions, cleaned_answers = clean_q_and_a(data)\n",
        "\n",
        "#preview\n",
        "print(\"Pertanyaan Bersih (stemmed) :\", cleaned_questions[:5])\n",
        "print(\"Jawaban Bersih :\", cleaned_answers[:5])"
      ],
      "metadata": {
        "colab": {
          "base_uri": "https://localhost:8080/"
        },
        "id": "UejduNZhzBTE",
        "outputId": "6811741c-9f4c-47a7-b982-1b22b569133a"
      },
      "execution_count": 7,
      "outputs": [
        {
          "output_type": "stream",
          "name": "stdout",
          "text": [
            "Pertanyaan Bersih (stemmed) : ['apa itu moderasi beragama', 'apa itu moderasi beragama', 'bagaimana anda menjelaskan konsep moderasi beragama', 'bagaimana anda menjelaskan konsep moderasi beragama', 'tolong definisikan apa yang dimaksud dengan moderasi beragama']\n",
            "Jawaban Bersih : ['<START> moderasi beragama adalah cara pandang atau sikap dalam menjalankan agama yang mengedepankan keseimbangan toleransi dan penghormatan terhadap perbedaan <END>', '<START> moderasi beragama adalah cara pandang atau sikap dalam menjalankan agama yang mengedepankan keseimbangan toleransi dan penghormatan terhadap perbedaan <END>', '<START> moderasi beragama adalah cara pandang atau sikap dalam menjalankan agama yang mengedepankan keseimbangan toleransi dan penghormatan terhadap perbedaan <END>', '<START> moderasi beragama adalah cara pandang atau sikap dalam menjalankan agama yang mengedepankan keseimbangan toleransi dan penghormatan terhadap perbedaan <END>', '<START> moderasi beragama adalah cara pandang atau sikap dalam menjalankan agama yang mengedepankan keseimbangan toleransi dan penghormatan terhadap perbedaan <END>']\n"
          ]
        }
      ]
    },
    {
      "cell_type": "code",
      "source": [
        "#Random Shuffle dataset\n",
        "import random\n",
        "from tensorflow.keras.preprocessing.sequence import pad_sequences\n",
        "\n",
        "combined_data = list(zip(cleaned_questions, cleaned_answers))\n",
        "random.shuffle(combined_data)\n",
        "\n",
        "#pisahkan lagi pertanyaan yg udah diacak\n",
        "shuffled_questions, shuffled_answers = zip(*combined_data)\n",
        "\n",
        "#preview\n",
        "print(\"Pertanyaan Setelah Diacak :\", shuffled_questions[:5])\n",
        "print(\"Jawaban Setelah Diacak :\", shuffled_answers[:5])"
      ],
      "metadata": {
        "colab": {
          "base_uri": "https://localhost:8080/"
        },
        "id": "r_kZXncrzjZb",
        "outputId": "7894d863-d8ff-4d21-e2a3-d423f0821f71"
      },
      "execution_count": 8,
      "outputs": [
        {
          "output_type": "stream",
          "name": "stdout",
          "text": [
            "Pertanyaan Setelah Diacak : ('apa peran generasi muda dalam moderasi beragama', 'apa saja hambatan yang membuat perempuan sulit berpartisipasi dalam moderasi beragama', 'peran apa yang dimainkan indonesia sebagai teladan moderasi beragama di kancah internasional', 'mengapa aplikasi berbasis agama penting dalam mempromosikan moderasi beragama', 'mengapa moderasi beragama sangat efektif dalam meredam konflik budayaagama')\n",
            "Jawaban Setelah Diacak : ('<START> generasi muda dapat menjadi agen perubahan dengan menyebarkan nilainilai toleransi melalui media sosial dan kegiatan komunitas <END>', '<START> tantangan meliputi stereotip gender kurangnya pendidikan dan tekanan budaya patriarki <END>', '<START> indonesia aktif mempromosikan toleransi melalui organisasi internasional seperti asean dan pbb <END>', '<START> aplikasi ini dapat digunakan untuk menyebarkan ajaran agama yang moderat dan mendukung kerukunan <END>', '<START> dengan mengedepankan dialog dan menghargai tradisi yang ada selama tidak bertentangan dengan nilainilai dasar agama <END>')\n"
          ]
        }
      ]
    },
    {
      "cell_type": "code",
      "source": [
        "# Contoh data sebelum pengacakan\n",
        "print(\"Data Pertanyaan Sebelum Pengacakan:\")\n",
        "for i in range(20):  # Cetak lima contoh pertama\n",
        "    print(cleaned_questions[i])\n",
        "\n",
        "print(\"\\nData Jawaban Sebelum Pengacakan:\")\n",
        "for i in range(20):  # Cetak lima contoh pertama\n",
        "    print(cleaned_answers[i])\n",
        "\n",
        "# Contoh data setelah pengacakan\n",
        "print(\"\\nData Pertanyaan Setelah Pengacakan:\")\n",
        "for i in range(20):  # Cetak lima contoh pertama\n",
        "    print(shuffled_questions[i])\n",
        "\n",
        "print(\"\\nData Jawaban Setelah Pengacakan:\")\n",
        "for i in range(20):  # Cetak lima contoh pertama\n",
        "    print(shuffled_answers[i])"
      ],
      "metadata": {
        "colab": {
          "base_uri": "https://localhost:8080/"
        },
        "id": "b3AkbrU5zkPR",
        "outputId": "8b01123a-eb7b-4a46-c96e-395456edc33f"
      },
      "execution_count": 9,
      "outputs": [
        {
          "output_type": "stream",
          "name": "stdout",
          "text": [
            "Data Pertanyaan Sebelum Pengacakan:\n",
            "apa itu moderasi beragama\n",
            "apa itu moderasi beragama\n",
            "bagaimana anda menjelaskan konsep moderasi beragama\n",
            "bagaimana anda menjelaskan konsep moderasi beragama\n",
            "tolong definisikan apa yang dimaksud dengan moderasi beragama\n",
            "tolong definisikan apa yang dimaksud dengan moderasi beragama\n",
            "apa pengertian dari sikap beragama yang moderat\n",
            "apa pengertian dari sikap beragama yang moderat\n",
            "konsep seperti apa yang diusung oleh moderasi beragama\n",
            "konsep seperti apa yang diusung oleh moderasi beragama\n",
            "jelaskan secara singkat apa inti dari moderasi beragama\n",
            "jelaskan secara singkat apa inti dari moderasi beragama\n",
            "mengapa moderasi beragama penting\n",
            "mengapa moderasi beragama penting\n",
            "apa alasan utama moderasi beragama dianggap penting\n",
            "apa alasan utama moderasi beragama dianggap penting\n",
            "kenapa sikap moderat dalam beragama sangat dibutuhkan\n",
            "kenapa sikap moderat dalam beragama sangat dibutuhkan\n",
            "apa fungsi moderasi beragama dalam masyarakat\n",
            "apa fungsi moderasi beragama dalam masyarakat\n",
            "\n",
            "Data Jawaban Sebelum Pengacakan:\n",
            "<START> moderasi beragama adalah cara pandang atau sikap dalam menjalankan agama yang mengedepankan keseimbangan toleransi dan penghormatan terhadap perbedaan <END>\n",
            "<START> moderasi beragama adalah cara pandang atau sikap dalam menjalankan agama yang mengedepankan keseimbangan toleransi dan penghormatan terhadap perbedaan <END>\n",
            "<START> moderasi beragama adalah cara pandang atau sikap dalam menjalankan agama yang mengedepankan keseimbangan toleransi dan penghormatan terhadap perbedaan <END>\n",
            "<START> moderasi beragama adalah cara pandang atau sikap dalam menjalankan agama yang mengedepankan keseimbangan toleransi dan penghormatan terhadap perbedaan <END>\n",
            "<START> moderasi beragama adalah cara pandang atau sikap dalam menjalankan agama yang mengedepankan keseimbangan toleransi dan penghormatan terhadap perbedaan <END>\n",
            "<START> moderasi beragama adalah cara pandang atau sikap dalam menjalankan agama yang mengedepankan keseimbangan toleransi dan penghormatan terhadap perbedaan <END>\n",
            "<START> moderasi beragama adalah cara pandang atau sikap dalam menjalankan agama yang mengedepankan keseimbangan toleransi dan penghormatan terhadap perbedaan <END>\n",
            "<START> moderasi beragama adalah cara pandang atau sikap dalam menjalankan agama yang mengedepankan keseimbangan toleransi dan penghormatan terhadap perbedaan <END>\n",
            "<START> moderasi beragama adalah cara pandang atau sikap dalam menjalankan agama yang mengedepankan keseimbangan toleransi dan penghormatan terhadap perbedaan <END>\n",
            "<START> moderasi beragama adalah cara pandang atau sikap dalam menjalankan agama yang mengedepankan keseimbangan toleransi dan penghormatan terhadap perbedaan <END>\n",
            "<START> moderasi beragama adalah cara pandang atau sikap dalam menjalankan agama yang mengedepankan keseimbangan toleransi dan penghormatan terhadap perbedaan <END>\n",
            "<START> moderasi beragama adalah cara pandang atau sikap dalam menjalankan agama yang mengedepankan keseimbangan toleransi dan penghormatan terhadap perbedaan <END>\n",
            "<START> moderasi beragama penting untuk menciptakan harmoni sosial menghindari ekstremisme dan memperkuat persatuan di masyarakat yang majemuk <END>\n",
            "<START> moderasi beragama penting untuk menciptakan harmoni sosial menghindari ekstremisme dan memperkuat persatuan di masyarakat yang majemuk <END>\n",
            "<START> moderasi beragama penting untuk menciptakan harmoni sosial menghindari ekstremisme dan memperkuat persatuan di masyarakat yang majemuk <END>\n",
            "<START> moderasi beragama penting untuk menciptakan harmoni sosial menghindari ekstremisme dan memperkuat persatuan di masyarakat yang majemuk <END>\n",
            "<START> moderasi beragama penting untuk menciptakan harmoni sosial menghindari ekstremisme dan memperkuat persatuan di masyarakat yang majemuk <END>\n",
            "<START> moderasi beragama penting untuk menciptakan harmoni sosial menghindari ekstremisme dan memperkuat persatuan di masyarakat yang majemuk <END>\n",
            "<START> moderasi beragama penting untuk menciptakan harmoni sosial menghindari ekstremisme dan memperkuat persatuan di masyarakat yang majemuk <END>\n",
            "<START> moderasi beragama penting untuk menciptakan harmoni sosial menghindari ekstremisme dan memperkuat persatuan di masyarakat yang majemuk <END>\n",
            "\n",
            "Data Pertanyaan Setelah Pengacakan:\n",
            "apa peran generasi muda dalam moderasi beragama\n",
            "apa saja hambatan yang membuat perempuan sulit berpartisipasi dalam moderasi beragama\n",
            "peran apa yang dimainkan indonesia sebagai teladan moderasi beragama di kancah internasional\n",
            "mengapa aplikasi berbasis agama penting dalam mempromosikan moderasi beragama\n",
            "mengapa moderasi beragama sangat efektif dalam meredam konflik budayaagama\n",
            "mengapa moderasi beragama penting bagi kemajuan ekonomi suatu negara\n",
            "apa saja bentuk dukungan yang diberikan organisasi perempuan untuk moderasi beragama\n",
            "malam\n",
            "selamat malam\n",
            "apa saja cara teknologi membantu penyebaran moderasi beragama\n",
            "apa strategi untuk menyelesaikan konflik agama di tingkat komunitas\n",
            "cara seperti apa yang bisa dilakukan orang tua untuk mengajarkan moderasi beragama\n",
            "apa saja dasar hukum di indonesia yang relevan dengan moderasi beragama\n",
            "apa hubungan antara pendidikan agama dan penguatan moderasi beragama\n",
            "jelaskan bagaimana moderasi beragama dapat terwujud dalam bentuk tradisi lokal\n",
            "sebutkan tindakantindakan moderat dalam beragama yang relevan di sekolah\n",
            "apa tantangan ekonomi dalam masyarakat yang kurang moderat\n",
            "dalam konteks islam moderasi beragama disebut sebagai apa\n",
            "jelaskan cara moderasi beragama diimplementasikan dalam ranah politik\n",
            "jelaskan pendekatan yang sesuai untuk mengedukasi anak muda tentang moderasi beragama\n",
            "\n",
            "Data Jawaban Setelah Pengacakan:\n",
            "<START> generasi muda dapat menjadi agen perubahan dengan menyebarkan nilainilai toleransi melalui media sosial dan kegiatan komunitas <END>\n",
            "<START> tantangan meliputi stereotip gender kurangnya pendidikan dan tekanan budaya patriarki <END>\n",
            "<START> indonesia aktif mempromosikan toleransi melalui organisasi internasional seperti asean dan pbb <END>\n",
            "<START> aplikasi ini dapat digunakan untuk menyebarkan ajaran agama yang moderat dan mendukung kerukunan <END>\n",
            "<START> dengan mengedepankan dialog dan menghargai tradisi yang ada selama tidak bertentangan dengan nilainilai dasar agama <END>\n",
            "<START> moderasi beragama menciptakan stabilitas sosial yang mendukung pembangunan ekonomi <END>\n",
            "<START> dengan mengadakan diskusi lintas agama pelatihan toleransi dan kampanye untuk meningkatkan kesadaran tentang pentingnya kesetaraan <END>\n",
            "<START> selamat malam semoga harimu menyenangkan <END>\n",
            "<START> selamat malam kembali <END>\n",
            "<START> teknologi dapat digunakan untuk menyebarkan konten edukatif tentang toleransi dan moderasi <END>\n",
            "<START> dengan dialog terbuka mediasi oleh tokoh agama dan pelibatan semua pihak untuk menemukan solusi bersama <END>\n",
            "<START> dengan mengajarkan toleransi menghargai perbedaan dan memberikan contoh sikap inklusif dalam kehidupan seharihari <END>\n",
            "<START> konstitusi indonesia menjamin kebebasan beragama dan melindungi semua agama dari diskriminasi <END>\n",
            "<START> dengan mengajarkan agama secara inklusif menekankan ajaran cinta kasih dan menjauhkan siswa dari pemahaman ekstremis <END>\n",
            "<START> tradisi seperti grebeg syawal di yogyakarta yang melibatkan berbagai kelompok masyarakat dalam perayaan <END>\n",
            "<START> contohnya adalah menghormati perayaan keagamaan teman dari agama lain dan tidak memaksakan keyakinan pada orang lain <END>\n",
            "<START> tantangannya meliputi diskriminasi ekonomi penurunan investasi dan konflik antar kelompok <END>\n",
            "<START> istilahnya adalah wasathiyyah yang berarti jalan tengah atau keseimbangan <END>\n",
            "<START> dengan memastikan bahwa kebijakan politik tidak memihak agama tertentu dan mendukung kepentingan semua kelompok <END>\n",
            "<START> dengan pendekatan yang relevan seperti melalui teknologi seni dan kegiatan kolaboratif <END>\n"
          ]
        }
      ]
    },
    {
      "cell_type": "code",
      "source": [
        "#cek total data\n",
        "print(f'Total conversations in dataset: {len(cleaned_questions)}')"
      ],
      "metadata": {
        "colab": {
          "base_uri": "https://localhost:8080/"
        },
        "id": "zJdUhGrSznE7",
        "outputId": "abfadff6-04d1-4dcf-a2e1-7fe298fdf139"
      },
      "execution_count": 10,
      "outputs": [
        {
          "output_type": "stream",
          "name": "stdout",
          "text": [
            "Total conversations in dataset: 2502\n"
          ]
        }
      ]
    },
    {
      "cell_type": "code",
      "source": [
        "#data restructuring\n",
        "\n",
        "tokenizer = Tokenizer()\n",
        "tokenizer.fit_on_texts(shuffled_questions + shuffled_answers)\n",
        "\n",
        "VOCAB_SIZE = len(tokenizer.word_index) + 1\n",
        "print(f'VOCAB SIZE: {VOCAB_SIZE}')"
      ],
      "metadata": {
        "colab": {
          "base_uri": "https://localhost:8080/"
        },
        "id": "qKJfQsAFzr6x",
        "outputId": "0da338c6-0e59-433b-d407-e194bea9daee"
      },
      "execution_count": 11,
      "outputs": [
        {
          "output_type": "stream",
          "name": "stdout",
          "text": [
            "VOCAB SIZE: 1247\n"
          ]
        }
      ]
    },
    {
      "cell_type": "code",
      "source": [
        "from copy import deepcopy\n",
        "\n",
        "#encoder input\n",
        "tokenized_questions = tokenizer.texts_to_sequences(shuffled_questions)\n",
        "maxlen_questions = max([len(x) for x in tokenized_questions])\n",
        "encoder_input_data = pad_sequences(tokenized_questions, maxlen=maxlen_questions, padding='post') # -> udah ok\n",
        "\n",
        "#decoder input\n",
        "tokenized_answers = tokenizer.texts_to_sequences(shuffled_answers)\n",
        "maxlen_answers = max([len(x) for x in tokenized_answers])\n",
        "decoder_input_data = pad_sequences(tokenized_answers, maxlen=maxlen_answers, padding='post') #-> udah ok\n",
        "decoder_target_sequences = deepcopy(tokenized_answers)\n",
        "\n",
        "# Lakukan pergeseran: Hapus token pertama ('<START>') dari setiap urutan.\n",
        "for i in range(len(decoder_target_sequences)):\n",
        "    # Ambil semua elemen KECUALI elemen pertama (indeks 0)\n",
        "    decoder_target_sequences[i] = decoder_target_sequences[i][1:]\n",
        "\n",
        "# Lakukan padding pada data target yang sudah digeser\n",
        "decoder_output_data = pad_sequences(decoder_target_sequences,\n",
        "                                    maxlen=maxlen_answers,\n",
        "                                    padding='post')\n",
        "\n",
        "print(\"✅ Penyiapan data tokenizer untuk Seq2Seq berhasil!\")"
      ],
      "metadata": {
        "colab": {
          "base_uri": "https://localhost:8080/"
        },
        "id": "vITnic_AzuhT",
        "outputId": "dfccff94-adfd-4396-87a7-10c20fb50a43"
      },
      "execution_count": 12,
      "outputs": [
        {
          "output_type": "stream",
          "name": "stdout",
          "text": [
            "✅ Penyiapan data tokenizer untuk Seq2Seq berhasil!\n"
          ]
        }
      ]
    },
    {
      "cell_type": "code",
      "source": [
        "# Tampilkan maxlen_questions\n",
        "print(f\"Max Length for Questions (maxlen_questions): {maxlen_questions}\")\n",
        "\n",
        "# Tampilkan maxlen_answers\n",
        "print(f\"Max Length for Answers (maxlen_answers): {maxlen_answers}\")"
      ],
      "metadata": {
        "colab": {
          "base_uri": "https://localhost:8080/"
        },
        "id": "hk05uczzzzjB",
        "outputId": "c0d20662-624e-41e2-f24e-652a7c7dd40a"
      },
      "execution_count": 13,
      "outputs": [
        {
          "output_type": "stream",
          "name": "stdout",
          "text": [
            "Max Length for Questions (maxlen_questions): 17\n",
            "Max Length for Answers (maxlen_answers): 25\n"
          ]
        }
      ]
    },
    {
      "cell_type": "code",
      "source": [
        "#save tokenizer\n",
        "import pickle\n",
        "\n",
        "with open('tokenizer.pkl', 'wb') as tokenizer_file:\n",
        "  pickle.dump(tokenizer, tokenizer_file)\n",
        "\n",
        "print(\"Tokenizer berhasil disimpan!\")"
      ],
      "metadata": {
        "colab": {
          "base_uri": "https://localhost:8080/"
        },
        "id": "gfzQiS2Hz2tH",
        "outputId": "5e39bda7-2867-4177-e246-4cc4c8b2bb95"
      },
      "execution_count": 14,
      "outputs": [
        {
          "output_type": "stream",
          "name": "stdout",
          "text": [
            "Tokenizer berhasil disimpan!\n"
          ]
        }
      ]
    },
    {
      "cell_type": "code",
      "source": [
        "import tensorflow as tf\n",
        "from tensorflow.keras.layers import Input, Embedding, LSTM, Bidirectional, Dense, Concatenate, Dot, Activation, Dropout\n",
        "from tensorflow.keras.models import Model\n",
        "\n",
        "#parameter\n",
        "HIDDEN_DIM = 100\n",
        "EMBED_DIM = 64\n",
        "DROPOUT = 0.2\n",
        "\n",
        "#run ini aja ya\n",
        "def model(vocab_size, embed_dim=EMBED_DIM, dropout_rate=DROPOUT):\n",
        "    # Encoder\n",
        "    enc_inputs = Input(shape=(None,), name='encoder_input')\n",
        "    # Layer Embedding Encoder (index 2)\n",
        "    enc_embedding = Embedding(vocab_size, embed_dim, mask_zero=True, name='enc_embedding')(enc_inputs)\n",
        "    enc_outputs, forward_h, forward_c, backward_h, backward_c = Bidirectional(\n",
        "        LSTM(HIDDEN_DIM, return_sequences=True, return_state=True, dropout=dropout_rate, recurrent_dropout=dropout_rate),\n",
        "        name='encoder_bilstm'\n",
        "    )(enc_embedding)\n",
        "\n",
        "    state_h = Concatenate(name='concat_h')([forward_h, backward_h])\n",
        "    state_c = Concatenate(name='concat_c')([forward_c, backward_c])\n",
        "    enc_states = [state_h, state_c]\n",
        "\n",
        "    # Decoder\n",
        "    dec_inputs = Input(shape=(None,), name='decoder_input')\n",
        "    # Layer Embedding Decoder (index 3)\n",
        "    dec_embedding_layer = Embedding(vocab_size, embed_dim, mask_zero=True, name='dec_embedding')\n",
        "    dec_embedding = dec_embedding_layer(dec_inputs)\n",
        "\n",
        "    dec_lstm = LSTM(HIDDEN_DIM * 2, return_sequences=True, return_state=True, dropout=dropout_rate, recurrent_dropout=dropout_rate, name='decoder_lstm')\n",
        "    dec_outputs, _, _ = dec_lstm(dec_embedding, initial_state=enc_states)\n",
        "\n",
        "    # Attention\n",
        "    attention = Dot(axes=[2, 2], name='attention_score')([dec_outputs, enc_outputs])\n",
        "    attention = Activation('softmax', name='attention_weights')(attention)\n",
        "    context = Dot(axes=[2, 1], name='context_vector')([attention, enc_outputs])\n",
        "\n",
        "    # Merge context + decoder output\n",
        "    dec_combined_context = Concatenate(axis=-1, name='combined_context')([context, dec_outputs])\n",
        "    dec_combined_context = Dropout(dropout_rate)(dec_combined_context)\n",
        "\n",
        "    # Final prediction (dense layer)\n",
        "    dec_dense = Dense(vocab_size, activation='softmax', name='output_layer')\n",
        "    output = dec_dense(dec_combined_context)\n",
        "\n",
        "    # Define model. Kembalikan LAYER objek juga.\n",
        "    full_model = Model(inputs=[enc_inputs, dec_inputs], outputs=output)\n",
        "    return full_model, enc_inputs, enc_outputs, enc_states, dec_inputs, dec_embedding_layer, dec_lstm, dec_dense"
      ],
      "metadata": {
        "id": "82YJ-qG_0AB9"
      },
      "execution_count": 15,
      "outputs": []
    },
    {
      "cell_type": "code",
      "source": [
        "# Kompilasi Model\n",
        "model_lstm = model(vocab_size=VOCAB_SIZE)[0]\n",
        "model_lstm.compile(\n",
        "    optimizer=tf.optimizers.Adam(learning_rate=0.001),\n",
        "    loss='sparse_categorical_crossentropy',\n",
        "    metrics=['accuracy'])\n",
        "\n",
        "model_lstm.summary()"
      ],
      "metadata": {
        "colab": {
          "base_uri": "https://localhost:8080/",
          "height": 929
        },
        "id": "PhXsVOXH0INZ",
        "outputId": "c1144731-71c8-45cf-bb29-a0e0a3d763fb"
      },
      "execution_count": 16,
      "outputs": [
        {
          "output_type": "display_data",
          "data": {
            "text/plain": [
              "\u001b[1mModel: \"functional\"\u001b[0m\n"
            ],
            "text/html": [
              "<pre style=\"white-space:pre;overflow-x:auto;line-height:normal;font-family:Menlo,'DejaVu Sans Mono',consolas,'Courier New',monospace\"><span style=\"font-weight: bold\">Model: \"functional\"</span>\n",
              "</pre>\n"
            ]
          },
          "metadata": {}
        },
        {
          "output_type": "display_data",
          "data": {
            "text/plain": [
              "┏━━━━━━━━━━━━━━━━━━━━━┳━━━━━━━━━━━━━━━━━━━┳━━━━━━━━━━━━┳━━━━━━━━━━━━━━━━━━━┓\n",
              "┃\u001b[1m \u001b[0m\u001b[1mLayer (type)       \u001b[0m\u001b[1m \u001b[0m┃\u001b[1m \u001b[0m\u001b[1mOutput Shape     \u001b[0m\u001b[1m \u001b[0m┃\u001b[1m \u001b[0m\u001b[1m   Param #\u001b[0m\u001b[1m \u001b[0m┃\u001b[1m \u001b[0m\u001b[1mConnected to     \u001b[0m\u001b[1m \u001b[0m┃\n",
              "┡━━━━━━━━━━━━━━━━━━━━━╇━━━━━━━━━━━━━━━━━━━╇━━━━━━━━━━━━╇━━━━━━━━━━━━━━━━━━━┩\n",
              "│ encoder_input       │ (\u001b[38;5;45mNone\u001b[0m, \u001b[38;5;45mNone\u001b[0m)      │          \u001b[38;5;34m0\u001b[0m │ -                 │\n",
              "│ (\u001b[38;5;33mInputLayer\u001b[0m)        │                   │            │                   │\n",
              "├─────────────────────┼───────────────────┼────────────┼───────────────────┤\n",
              "│ enc_embedding       │ (\u001b[38;5;45mNone\u001b[0m, \u001b[38;5;45mNone\u001b[0m, \u001b[38;5;34m64\u001b[0m)  │     \u001b[38;5;34m79,808\u001b[0m │ encoder_input[\u001b[38;5;34m0\u001b[0m]… │\n",
              "│ (\u001b[38;5;33mEmbedding\u001b[0m)         │                   │            │                   │\n",
              "├─────────────────────┼───────────────────┼────────────┼───────────────────┤\n",
              "│ not_equal           │ (\u001b[38;5;45mNone\u001b[0m, \u001b[38;5;45mNone\u001b[0m)      │          \u001b[38;5;34m0\u001b[0m │ encoder_input[\u001b[38;5;34m0\u001b[0m]… │\n",
              "│ (\u001b[38;5;33mNotEqual\u001b[0m)          │                   │            │                   │\n",
              "├─────────────────────┼───────────────────┼────────────┼───────────────────┤\n",
              "│ decoder_input       │ (\u001b[38;5;45mNone\u001b[0m, \u001b[38;5;45mNone\u001b[0m)      │          \u001b[38;5;34m0\u001b[0m │ -                 │\n",
              "│ (\u001b[38;5;33mInputLayer\u001b[0m)        │                   │            │                   │\n",
              "├─────────────────────┼───────────────────┼────────────┼───────────────────┤\n",
              "│ encoder_bilstm      │ [(\u001b[38;5;45mNone\u001b[0m, \u001b[38;5;45mNone\u001b[0m,     │    \u001b[38;5;34m132,000\u001b[0m │ enc_embedding[\u001b[38;5;34m0\u001b[0m]… │\n",
              "│ (\u001b[38;5;33mBidirectional\u001b[0m)     │ \u001b[38;5;34m200\u001b[0m), (\u001b[38;5;45mNone\u001b[0m,      │            │ not_equal[\u001b[38;5;34m0\u001b[0m][\u001b[38;5;34m0\u001b[0m]   │\n",
              "│                     │ \u001b[38;5;34m100\u001b[0m), (\u001b[38;5;45mNone\u001b[0m,      │            │                   │\n",
              "│                     │ \u001b[38;5;34m100\u001b[0m), (\u001b[38;5;45mNone\u001b[0m,      │            │                   │\n",
              "│                     │ \u001b[38;5;34m100\u001b[0m), (\u001b[38;5;45mNone\u001b[0m,      │            │                   │\n",
              "│                     │ \u001b[38;5;34m100\u001b[0m)]             │            │                   │\n",
              "├─────────────────────┼───────────────────┼────────────┼───────────────────┤\n",
              "│ dec_embedding       │ (\u001b[38;5;45mNone\u001b[0m, \u001b[38;5;45mNone\u001b[0m, \u001b[38;5;34m64\u001b[0m)  │     \u001b[38;5;34m79,808\u001b[0m │ decoder_input[\u001b[38;5;34m0\u001b[0m]… │\n",
              "│ (\u001b[38;5;33mEmbedding\u001b[0m)         │                   │            │                   │\n",
              "├─────────────────────┼───────────────────┼────────────┼───────────────────┤\n",
              "│ concat_h            │ (\u001b[38;5;45mNone\u001b[0m, \u001b[38;5;34m200\u001b[0m)       │          \u001b[38;5;34m0\u001b[0m │ encoder_bilstm[\u001b[38;5;34m0\u001b[0m… │\n",
              "│ (\u001b[38;5;33mConcatenate\u001b[0m)       │                   │            │ encoder_bilstm[\u001b[38;5;34m0\u001b[0m… │\n",
              "├─────────────────────┼───────────────────┼────────────┼───────────────────┤\n",
              "│ concat_c            │ (\u001b[38;5;45mNone\u001b[0m, \u001b[38;5;34m200\u001b[0m)       │          \u001b[38;5;34m0\u001b[0m │ encoder_bilstm[\u001b[38;5;34m0\u001b[0m… │\n",
              "│ (\u001b[38;5;33mConcatenate\u001b[0m)       │                   │            │ encoder_bilstm[\u001b[38;5;34m0\u001b[0m… │\n",
              "├─────────────────────┼───────────────────┼────────────┼───────────────────┤\n",
              "│ decoder_lstm (\u001b[38;5;33mLSTM\u001b[0m) │ [(\u001b[38;5;45mNone\u001b[0m, \u001b[38;5;45mNone\u001b[0m,     │    \u001b[38;5;34m212,000\u001b[0m │ dec_embedding[\u001b[38;5;34m0\u001b[0m]… │\n",
              "│                     │ \u001b[38;5;34m200\u001b[0m), (\u001b[38;5;45mNone\u001b[0m,      │            │ concat_h[\u001b[38;5;34m0\u001b[0m][\u001b[38;5;34m0\u001b[0m],   │\n",
              "│                     │ \u001b[38;5;34m200\u001b[0m), (\u001b[38;5;45mNone\u001b[0m,      │            │ concat_c[\u001b[38;5;34m0\u001b[0m][\u001b[38;5;34m0\u001b[0m]    │\n",
              "│                     │ \u001b[38;5;34m200\u001b[0m)]             │            │                   │\n",
              "├─────────────────────┼───────────────────┼────────────┼───────────────────┤\n",
              "│ attention_score     │ (\u001b[38;5;45mNone\u001b[0m, \u001b[38;5;45mNone\u001b[0m,      │          \u001b[38;5;34m0\u001b[0m │ decoder_lstm[\u001b[38;5;34m0\u001b[0m][\u001b[38;5;34m…\u001b[0m │\n",
              "│ (\u001b[38;5;33mDot\u001b[0m)               │ \u001b[38;5;45mNone\u001b[0m)             │            │ encoder_bilstm[\u001b[38;5;34m0\u001b[0m… │\n",
              "├─────────────────────┼───────────────────┼────────────┼───────────────────┤\n",
              "│ attention_weights   │ (\u001b[38;5;45mNone\u001b[0m, \u001b[38;5;45mNone\u001b[0m,      │          \u001b[38;5;34m0\u001b[0m │ attention_score[\u001b[38;5;34m…\u001b[0m │\n",
              "│ (\u001b[38;5;33mActivation\u001b[0m)        │ \u001b[38;5;45mNone\u001b[0m)             │            │                   │\n",
              "├─────────────────────┼───────────────────┼────────────┼───────────────────┤\n",
              "│ context_vector      │ (\u001b[38;5;45mNone\u001b[0m, \u001b[38;5;45mNone\u001b[0m, \u001b[38;5;34m200\u001b[0m) │          \u001b[38;5;34m0\u001b[0m │ attention_weight… │\n",
              "│ (\u001b[38;5;33mDot\u001b[0m)               │                   │            │ encoder_bilstm[\u001b[38;5;34m0\u001b[0m… │\n",
              "├─────────────────────┼───────────────────┼────────────┼───────────────────┤\n",
              "│ combined_context    │ (\u001b[38;5;45mNone\u001b[0m, \u001b[38;5;45mNone\u001b[0m, \u001b[38;5;34m400\u001b[0m) │          \u001b[38;5;34m0\u001b[0m │ context_vector[\u001b[38;5;34m0\u001b[0m… │\n",
              "│ (\u001b[38;5;33mConcatenate\u001b[0m)       │                   │            │ decoder_lstm[\u001b[38;5;34m0\u001b[0m][\u001b[38;5;34m…\u001b[0m │\n",
              "├─────────────────────┼───────────────────┼────────────┼───────────────────┤\n",
              "│ dropout (\u001b[38;5;33mDropout\u001b[0m)   │ (\u001b[38;5;45mNone\u001b[0m, \u001b[38;5;45mNone\u001b[0m, \u001b[38;5;34m400\u001b[0m) │          \u001b[38;5;34m0\u001b[0m │ combined_context… │\n",
              "├─────────────────────┼───────────────────┼────────────┼───────────────────┤\n",
              "│ output_layer        │ (\u001b[38;5;45mNone\u001b[0m, \u001b[38;5;45mNone\u001b[0m,      │    \u001b[38;5;34m500,047\u001b[0m │ dropout[\u001b[38;5;34m0\u001b[0m][\u001b[38;5;34m0\u001b[0m]     │\n",
              "│ (\u001b[38;5;33mDense\u001b[0m)             │ \u001b[38;5;34m1247\u001b[0m)             │            │                   │\n",
              "└─────────────────────┴───────────────────┴────────────┴───────────────────┘\n"
            ],
            "text/html": [
              "<pre style=\"white-space:pre;overflow-x:auto;line-height:normal;font-family:Menlo,'DejaVu Sans Mono',consolas,'Courier New',monospace\">┏━━━━━━━━━━━━━━━━━━━━━┳━━━━━━━━━━━━━━━━━━━┳━━━━━━━━━━━━┳━━━━━━━━━━━━━━━━━━━┓\n",
              "┃<span style=\"font-weight: bold\"> Layer (type)        </span>┃<span style=\"font-weight: bold\"> Output Shape      </span>┃<span style=\"font-weight: bold\">    Param # </span>┃<span style=\"font-weight: bold\"> Connected to      </span>┃\n",
              "┡━━━━━━━━━━━━━━━━━━━━━╇━━━━━━━━━━━━━━━━━━━╇━━━━━━━━━━━━╇━━━━━━━━━━━━━━━━━━━┩\n",
              "│ encoder_input       │ (<span style=\"color: #00d7ff; text-decoration-color: #00d7ff\">None</span>, <span style=\"color: #00d7ff; text-decoration-color: #00d7ff\">None</span>)      │          <span style=\"color: #00af00; text-decoration-color: #00af00\">0</span> │ -                 │\n",
              "│ (<span style=\"color: #0087ff; text-decoration-color: #0087ff\">InputLayer</span>)        │                   │            │                   │\n",
              "├─────────────────────┼───────────────────┼────────────┼───────────────────┤\n",
              "│ enc_embedding       │ (<span style=\"color: #00d7ff; text-decoration-color: #00d7ff\">None</span>, <span style=\"color: #00d7ff; text-decoration-color: #00d7ff\">None</span>, <span style=\"color: #00af00; text-decoration-color: #00af00\">64</span>)  │     <span style=\"color: #00af00; text-decoration-color: #00af00\">79,808</span> │ encoder_input[<span style=\"color: #00af00; text-decoration-color: #00af00\">0</span>]… │\n",
              "│ (<span style=\"color: #0087ff; text-decoration-color: #0087ff\">Embedding</span>)         │                   │            │                   │\n",
              "├─────────────────────┼───────────────────┼────────────┼───────────────────┤\n",
              "│ not_equal           │ (<span style=\"color: #00d7ff; text-decoration-color: #00d7ff\">None</span>, <span style=\"color: #00d7ff; text-decoration-color: #00d7ff\">None</span>)      │          <span style=\"color: #00af00; text-decoration-color: #00af00\">0</span> │ encoder_input[<span style=\"color: #00af00; text-decoration-color: #00af00\">0</span>]… │\n",
              "│ (<span style=\"color: #0087ff; text-decoration-color: #0087ff\">NotEqual</span>)          │                   │            │                   │\n",
              "├─────────────────────┼───────────────────┼────────────┼───────────────────┤\n",
              "│ decoder_input       │ (<span style=\"color: #00d7ff; text-decoration-color: #00d7ff\">None</span>, <span style=\"color: #00d7ff; text-decoration-color: #00d7ff\">None</span>)      │          <span style=\"color: #00af00; text-decoration-color: #00af00\">0</span> │ -                 │\n",
              "│ (<span style=\"color: #0087ff; text-decoration-color: #0087ff\">InputLayer</span>)        │                   │            │                   │\n",
              "├─────────────────────┼───────────────────┼────────────┼───────────────────┤\n",
              "│ encoder_bilstm      │ [(<span style=\"color: #00d7ff; text-decoration-color: #00d7ff\">None</span>, <span style=\"color: #00d7ff; text-decoration-color: #00d7ff\">None</span>,     │    <span style=\"color: #00af00; text-decoration-color: #00af00\">132,000</span> │ enc_embedding[<span style=\"color: #00af00; text-decoration-color: #00af00\">0</span>]… │\n",
              "│ (<span style=\"color: #0087ff; text-decoration-color: #0087ff\">Bidirectional</span>)     │ <span style=\"color: #00af00; text-decoration-color: #00af00\">200</span>), (<span style=\"color: #00d7ff; text-decoration-color: #00d7ff\">None</span>,      │            │ not_equal[<span style=\"color: #00af00; text-decoration-color: #00af00\">0</span>][<span style=\"color: #00af00; text-decoration-color: #00af00\">0</span>]   │\n",
              "│                     │ <span style=\"color: #00af00; text-decoration-color: #00af00\">100</span>), (<span style=\"color: #00d7ff; text-decoration-color: #00d7ff\">None</span>,      │            │                   │\n",
              "│                     │ <span style=\"color: #00af00; text-decoration-color: #00af00\">100</span>), (<span style=\"color: #00d7ff; text-decoration-color: #00d7ff\">None</span>,      │            │                   │\n",
              "│                     │ <span style=\"color: #00af00; text-decoration-color: #00af00\">100</span>), (<span style=\"color: #00d7ff; text-decoration-color: #00d7ff\">None</span>,      │            │                   │\n",
              "│                     │ <span style=\"color: #00af00; text-decoration-color: #00af00\">100</span>)]             │            │                   │\n",
              "├─────────────────────┼───────────────────┼────────────┼───────────────────┤\n",
              "│ dec_embedding       │ (<span style=\"color: #00d7ff; text-decoration-color: #00d7ff\">None</span>, <span style=\"color: #00d7ff; text-decoration-color: #00d7ff\">None</span>, <span style=\"color: #00af00; text-decoration-color: #00af00\">64</span>)  │     <span style=\"color: #00af00; text-decoration-color: #00af00\">79,808</span> │ decoder_input[<span style=\"color: #00af00; text-decoration-color: #00af00\">0</span>]… │\n",
              "│ (<span style=\"color: #0087ff; text-decoration-color: #0087ff\">Embedding</span>)         │                   │            │                   │\n",
              "├─────────────────────┼───────────────────┼────────────┼───────────────────┤\n",
              "│ concat_h            │ (<span style=\"color: #00d7ff; text-decoration-color: #00d7ff\">None</span>, <span style=\"color: #00af00; text-decoration-color: #00af00\">200</span>)       │          <span style=\"color: #00af00; text-decoration-color: #00af00\">0</span> │ encoder_bilstm[<span style=\"color: #00af00; text-decoration-color: #00af00\">0</span>… │\n",
              "│ (<span style=\"color: #0087ff; text-decoration-color: #0087ff\">Concatenate</span>)       │                   │            │ encoder_bilstm[<span style=\"color: #00af00; text-decoration-color: #00af00\">0</span>… │\n",
              "├─────────────────────┼───────────────────┼────────────┼───────────────────┤\n",
              "│ concat_c            │ (<span style=\"color: #00d7ff; text-decoration-color: #00d7ff\">None</span>, <span style=\"color: #00af00; text-decoration-color: #00af00\">200</span>)       │          <span style=\"color: #00af00; text-decoration-color: #00af00\">0</span> │ encoder_bilstm[<span style=\"color: #00af00; text-decoration-color: #00af00\">0</span>… │\n",
              "│ (<span style=\"color: #0087ff; text-decoration-color: #0087ff\">Concatenate</span>)       │                   │            │ encoder_bilstm[<span style=\"color: #00af00; text-decoration-color: #00af00\">0</span>… │\n",
              "├─────────────────────┼───────────────────┼────────────┼───────────────────┤\n",
              "│ decoder_lstm (<span style=\"color: #0087ff; text-decoration-color: #0087ff\">LSTM</span>) │ [(<span style=\"color: #00d7ff; text-decoration-color: #00d7ff\">None</span>, <span style=\"color: #00d7ff; text-decoration-color: #00d7ff\">None</span>,     │    <span style=\"color: #00af00; text-decoration-color: #00af00\">212,000</span> │ dec_embedding[<span style=\"color: #00af00; text-decoration-color: #00af00\">0</span>]… │\n",
              "│                     │ <span style=\"color: #00af00; text-decoration-color: #00af00\">200</span>), (<span style=\"color: #00d7ff; text-decoration-color: #00d7ff\">None</span>,      │            │ concat_h[<span style=\"color: #00af00; text-decoration-color: #00af00\">0</span>][<span style=\"color: #00af00; text-decoration-color: #00af00\">0</span>],   │\n",
              "│                     │ <span style=\"color: #00af00; text-decoration-color: #00af00\">200</span>), (<span style=\"color: #00d7ff; text-decoration-color: #00d7ff\">None</span>,      │            │ concat_c[<span style=\"color: #00af00; text-decoration-color: #00af00\">0</span>][<span style=\"color: #00af00; text-decoration-color: #00af00\">0</span>]    │\n",
              "│                     │ <span style=\"color: #00af00; text-decoration-color: #00af00\">200</span>)]             │            │                   │\n",
              "├─────────────────────┼───────────────────┼────────────┼───────────────────┤\n",
              "│ attention_score     │ (<span style=\"color: #00d7ff; text-decoration-color: #00d7ff\">None</span>, <span style=\"color: #00d7ff; text-decoration-color: #00d7ff\">None</span>,      │          <span style=\"color: #00af00; text-decoration-color: #00af00\">0</span> │ decoder_lstm[<span style=\"color: #00af00; text-decoration-color: #00af00\">0</span>][<span style=\"color: #00af00; text-decoration-color: #00af00\">…</span> │\n",
              "│ (<span style=\"color: #0087ff; text-decoration-color: #0087ff\">Dot</span>)               │ <span style=\"color: #00d7ff; text-decoration-color: #00d7ff\">None</span>)             │            │ encoder_bilstm[<span style=\"color: #00af00; text-decoration-color: #00af00\">0</span>… │\n",
              "├─────────────────────┼───────────────────┼────────────┼───────────────────┤\n",
              "│ attention_weights   │ (<span style=\"color: #00d7ff; text-decoration-color: #00d7ff\">None</span>, <span style=\"color: #00d7ff; text-decoration-color: #00d7ff\">None</span>,      │          <span style=\"color: #00af00; text-decoration-color: #00af00\">0</span> │ attention_score[<span style=\"color: #00af00; text-decoration-color: #00af00\">…</span> │\n",
              "│ (<span style=\"color: #0087ff; text-decoration-color: #0087ff\">Activation</span>)        │ <span style=\"color: #00d7ff; text-decoration-color: #00d7ff\">None</span>)             │            │                   │\n",
              "├─────────────────────┼───────────────────┼────────────┼───────────────────┤\n",
              "│ context_vector      │ (<span style=\"color: #00d7ff; text-decoration-color: #00d7ff\">None</span>, <span style=\"color: #00d7ff; text-decoration-color: #00d7ff\">None</span>, <span style=\"color: #00af00; text-decoration-color: #00af00\">200</span>) │          <span style=\"color: #00af00; text-decoration-color: #00af00\">0</span> │ attention_weight… │\n",
              "│ (<span style=\"color: #0087ff; text-decoration-color: #0087ff\">Dot</span>)               │                   │            │ encoder_bilstm[<span style=\"color: #00af00; text-decoration-color: #00af00\">0</span>… │\n",
              "├─────────────────────┼───────────────────┼────────────┼───────────────────┤\n",
              "│ combined_context    │ (<span style=\"color: #00d7ff; text-decoration-color: #00d7ff\">None</span>, <span style=\"color: #00d7ff; text-decoration-color: #00d7ff\">None</span>, <span style=\"color: #00af00; text-decoration-color: #00af00\">400</span>) │          <span style=\"color: #00af00; text-decoration-color: #00af00\">0</span> │ context_vector[<span style=\"color: #00af00; text-decoration-color: #00af00\">0</span>… │\n",
              "│ (<span style=\"color: #0087ff; text-decoration-color: #0087ff\">Concatenate</span>)       │                   │            │ decoder_lstm[<span style=\"color: #00af00; text-decoration-color: #00af00\">0</span>][<span style=\"color: #00af00; text-decoration-color: #00af00\">…</span> │\n",
              "├─────────────────────┼───────────────────┼────────────┼───────────────────┤\n",
              "│ dropout (<span style=\"color: #0087ff; text-decoration-color: #0087ff\">Dropout</span>)   │ (<span style=\"color: #00d7ff; text-decoration-color: #00d7ff\">None</span>, <span style=\"color: #00d7ff; text-decoration-color: #00d7ff\">None</span>, <span style=\"color: #00af00; text-decoration-color: #00af00\">400</span>) │          <span style=\"color: #00af00; text-decoration-color: #00af00\">0</span> │ combined_context… │\n",
              "├─────────────────────┼───────────────────┼────────────┼───────────────────┤\n",
              "│ output_layer        │ (<span style=\"color: #00d7ff; text-decoration-color: #00d7ff\">None</span>, <span style=\"color: #00d7ff; text-decoration-color: #00d7ff\">None</span>,      │    <span style=\"color: #00af00; text-decoration-color: #00af00\">500,047</span> │ dropout[<span style=\"color: #00af00; text-decoration-color: #00af00\">0</span>][<span style=\"color: #00af00; text-decoration-color: #00af00\">0</span>]     │\n",
              "│ (<span style=\"color: #0087ff; text-decoration-color: #0087ff\">Dense</span>)             │ <span style=\"color: #00af00; text-decoration-color: #00af00\">1247</span>)             │            │                   │\n",
              "└─────────────────────┴───────────────────┴────────────┴───────────────────┘\n",
              "</pre>\n"
            ]
          },
          "metadata": {}
        },
        {
          "output_type": "display_data",
          "data": {
            "text/plain": [
              "\u001b[1m Total params: \u001b[0m\u001b[38;5;34m1,003,663\u001b[0m (3.83 MB)\n"
            ],
            "text/html": [
              "<pre style=\"white-space:pre;overflow-x:auto;line-height:normal;font-family:Menlo,'DejaVu Sans Mono',consolas,'Courier New',monospace\"><span style=\"font-weight: bold\"> Total params: </span><span style=\"color: #00af00; text-decoration-color: #00af00\">1,003,663</span> (3.83 MB)\n",
              "</pre>\n"
            ]
          },
          "metadata": {}
        },
        {
          "output_type": "display_data",
          "data": {
            "text/plain": [
              "\u001b[1m Trainable params: \u001b[0m\u001b[38;5;34m1,003,663\u001b[0m (3.83 MB)\n"
            ],
            "text/html": [
              "<pre style=\"white-space:pre;overflow-x:auto;line-height:normal;font-family:Menlo,'DejaVu Sans Mono',consolas,'Courier New',monospace\"><span style=\"font-weight: bold\"> Trainable params: </span><span style=\"color: #00af00; text-decoration-color: #00af00\">1,003,663</span> (3.83 MB)\n",
              "</pre>\n"
            ]
          },
          "metadata": {}
        },
        {
          "output_type": "display_data",
          "data": {
            "text/plain": [
              "\u001b[1m Non-trainable params: \u001b[0m\u001b[38;5;34m0\u001b[0m (0.00 B)\n"
            ],
            "text/html": [
              "<pre style=\"white-space:pre;overflow-x:auto;line-height:normal;font-family:Menlo,'DejaVu Sans Mono',consolas,'Courier New',monospace\"><span style=\"font-weight: bold\"> Non-trainable params: </span><span style=\"color: #00af00; text-decoration-color: #00af00\">0</span> (0.00 B)\n",
              "</pre>\n"
            ]
          },
          "metadata": {}
        }
      ]
    },
    {
      "cell_type": "code",
      "source": [
        "#train the model\n",
        "\n",
        "EPOCHS = 100\n",
        "BATCH_SIZE = 16\n",
        "\n",
        "print(f\"\\n Start train the model with batch size {BATCH_SIZE}\")\n",
        "history = model_lstm.fit(\n",
        "    [encoder_input_data, decoder_input_data],\n",
        "    decoder_output_data,\n",
        "    batch_size=BATCH_SIZE,\n",
        "    epochs=EPOCHS,\n",
        "    validation_split=0.2\n",
        ")\n",
        "print(\"\\n Training Completed!\")"
      ],
      "metadata": {
        "colab": {
          "base_uri": "https://localhost:8080/"
        },
        "id": "CvENbDAY0Nnr",
        "outputId": "6869a375-f19a-4b0b-f9cf-729af1ea5d44"
      },
      "execution_count": 17,
      "outputs": [
        {
          "output_type": "stream",
          "name": "stdout",
          "text": [
            "\n",
            " Start train the model with batch size 16\n",
            "Epoch 1/100\n",
            "\u001b[1m126/126\u001b[0m \u001b[32m━━━━━━━━━━━━━━━━━━━━\u001b[0m\u001b[37m\u001b[0m \u001b[1m44s\u001b[0m 219ms/step - accuracy: 0.4552 - loss: 4.5219 - val_accuracy: 0.5274 - val_loss: 2.7547\n",
            "Epoch 2/100\n",
            "\u001b[1m126/126\u001b[0m \u001b[32m━━━━━━━━━━━━━━━━━━━━\u001b[0m\u001b[37m\u001b[0m \u001b[1m27s\u001b[0m 211ms/step - accuracy: 0.5463 - loss: 2.6627 - val_accuracy: 0.5525 - val_loss: 2.5051\n",
            "Epoch 3/100\n",
            "\u001b[1m126/126\u001b[0m \u001b[32m━━━━━━━━━━━━━━━━━━━━\u001b[0m\u001b[37m\u001b[0m \u001b[1m26s\u001b[0m 210ms/step - accuracy: 0.5634 - loss: 2.4191 - val_accuracy: 0.5760 - val_loss: 2.2752\n",
            "Epoch 4/100\n",
            "\u001b[1m126/126\u001b[0m \u001b[32m━━━━━━━━━━━━━━━━━━━━\u001b[0m\u001b[37m\u001b[0m \u001b[1m28s\u001b[0m 220ms/step - accuracy: 0.5773 - loss: 2.2113 - val_accuracy: 0.5894 - val_loss: 2.0796\n",
            "Epoch 5/100\n",
            "\u001b[1m126/126\u001b[0m \u001b[32m━━━━━━━━━━━━━━━━━━━━\u001b[0m\u001b[37m\u001b[0m \u001b[1m27s\u001b[0m 211ms/step - accuracy: 0.5965 - loss: 1.9895 - val_accuracy: 0.6096 - val_loss: 1.8416\n",
            "Epoch 6/100\n",
            "\u001b[1m126/126\u001b[0m \u001b[32m━━━━━━━━━━━━━━━━━━━━\u001b[0m\u001b[37m\u001b[0m \u001b[1m27s\u001b[0m 211ms/step - accuracy: 0.6162 - loss: 1.7731 - val_accuracy: 0.6307 - val_loss: 1.6667\n",
            "Epoch 7/100\n",
            "\u001b[1m126/126\u001b[0m \u001b[32m━━━━━━━━━━━━━━━━━━━━\u001b[0m\u001b[37m\u001b[0m \u001b[1m41s\u001b[0m 212ms/step - accuracy: 0.6388 - loss: 1.5938 - val_accuracy: 0.6623 - val_loss: 1.4625\n",
            "Epoch 8/100\n",
            "\u001b[1m126/126\u001b[0m \u001b[32m━━━━━━━━━━━━━━━━━━━━\u001b[0m\u001b[37m\u001b[0m \u001b[1m28s\u001b[0m 219ms/step - accuracy: 0.6766 - loss: 1.3633 - val_accuracy: 0.6931 - val_loss: 1.2849\n",
            "Epoch 9/100\n",
            "\u001b[1m126/126\u001b[0m \u001b[32m━━━━━━━━━━━━━━━━━━━━\u001b[0m\u001b[37m\u001b[0m \u001b[1m40s\u001b[0m 211ms/step - accuracy: 0.7066 - loss: 1.1991 - val_accuracy: 0.7350 - val_loss: 1.1136\n",
            "Epoch 10/100\n",
            "\u001b[1m126/126\u001b[0m \u001b[32m━━━━━━━━━━━━━━━━━━━━\u001b[0m\u001b[37m\u001b[0m \u001b[1m27s\u001b[0m 213ms/step - accuracy: 0.7453 - loss: 1.0355 - val_accuracy: 0.7679 - val_loss: 0.9721\n",
            "Epoch 11/100\n",
            "\u001b[1m126/126\u001b[0m \u001b[32m━━━━━━━━━━━━━━━━━━━━\u001b[0m\u001b[37m\u001b[0m \u001b[1m27s\u001b[0m 213ms/step - accuracy: 0.7701 - loss: 0.9203 - val_accuracy: 0.7952 - val_loss: 0.8442\n",
            "Epoch 12/100\n",
            "\u001b[1m126/126\u001b[0m \u001b[32m━━━━━━━━━━━━━━━━━━━━\u001b[0m\u001b[37m\u001b[0m \u001b[1m27s\u001b[0m 211ms/step - accuracy: 0.8073 - loss: 0.7755 - val_accuracy: 0.8319 - val_loss: 0.7209\n",
            "Epoch 13/100\n",
            "\u001b[1m126/126\u001b[0m \u001b[32m━━━━━━━━━━━━━━━━━━━━\u001b[0m\u001b[37m\u001b[0m \u001b[1m30s\u001b[0m 235ms/step - accuracy: 0.8326 - loss: 0.6757 - val_accuracy: 0.8544 - val_loss: 0.6270\n",
            "Epoch 14/100\n",
            "\u001b[1m126/126\u001b[0m \u001b[32m━━━━━━━━━━━━━━━━━━━━\u001b[0m\u001b[37m\u001b[0m \u001b[1m27s\u001b[0m 211ms/step - accuracy: 0.8633 - loss: 0.5675 - val_accuracy: 0.8834 - val_loss: 0.5329\n",
            "Epoch 15/100\n",
            "\u001b[1m126/126\u001b[0m \u001b[32m━━━━━━━━━━━━━━━━━━━━\u001b[0m\u001b[37m\u001b[0m \u001b[1m27s\u001b[0m 212ms/step - accuracy: 0.8817 - loss: 0.5064 - val_accuracy: 0.9007 - val_loss: 0.4631\n",
            "Epoch 16/100\n",
            "\u001b[1m126/126\u001b[0m \u001b[32m━━━━━━━━━━━━━━━━━━━━\u001b[0m\u001b[37m\u001b[0m \u001b[1m41s\u001b[0m 210ms/step - accuracy: 0.9024 - loss: 0.4210 - val_accuracy: 0.9152 - val_loss: 0.4016\n",
            "Epoch 17/100\n",
            "\u001b[1m126/126\u001b[0m \u001b[32m━━━━━━━━━━━━━━━━━━━━\u001b[0m\u001b[37m\u001b[0m \u001b[1m28s\u001b[0m 222ms/step - accuracy: 0.9163 - loss: 0.3639 - val_accuracy: 0.9289 - val_loss: 0.3527\n",
            "Epoch 18/100\n",
            "\u001b[1m126/126\u001b[0m \u001b[32m━━━━━━━━━━━━━━━━━━━━\u001b[0m\u001b[37m\u001b[0m \u001b[1m40s\u001b[0m 211ms/step - accuracy: 0.9250 - loss: 0.3268 - val_accuracy: 0.9379 - val_loss: 0.3054\n",
            "Epoch 19/100\n",
            "\u001b[1m126/126\u001b[0m \u001b[32m━━━━━━━━━━━━━━━━━━━━\u001b[0m\u001b[37m\u001b[0m \u001b[1m27s\u001b[0m 213ms/step - accuracy: 0.9403 - loss: 0.2720 - val_accuracy: 0.9502 - val_loss: 0.2679\n",
            "Epoch 20/100\n",
            "\u001b[1m126/126\u001b[0m \u001b[32m━━━━━━━━━━━━━━━━━━━━\u001b[0m\u001b[37m\u001b[0m \u001b[1m26s\u001b[0m 208ms/step - accuracy: 0.9465 - loss: 0.2455 - val_accuracy: 0.9527 - val_loss: 0.2449\n",
            "Epoch 21/100\n",
            "\u001b[1m126/126\u001b[0m \u001b[32m━━━━━━━━━━━━━━━━━━━━\u001b[0m\u001b[37m\u001b[0m \u001b[1m28s\u001b[0m 220ms/step - accuracy: 0.9531 - loss: 0.2181 - val_accuracy: 0.9566 - val_loss: 0.2189\n",
            "Epoch 22/100\n",
            "\u001b[1m126/126\u001b[0m \u001b[32m━━━━━━━━━━━━━━━━━━━━\u001b[0m\u001b[37m\u001b[0m \u001b[1m26s\u001b[0m 206ms/step - accuracy: 0.9603 - loss: 0.1906 - val_accuracy: 0.9608 - val_loss: 0.2019\n",
            "Epoch 23/100\n",
            "\u001b[1m126/126\u001b[0m \u001b[32m━━━━━━━━━━━━━━━━━━━━\u001b[0m\u001b[37m\u001b[0m \u001b[1m41s\u001b[0m 207ms/step - accuracy: 0.9653 - loss: 0.1719 - val_accuracy: 0.9662 - val_loss: 0.1816\n",
            "Epoch 24/100\n",
            "\u001b[1m126/126\u001b[0m \u001b[32m━━━━━━━━━━━━━━━━━━━━\u001b[0m\u001b[37m\u001b[0m \u001b[1m40s\u001b[0m 202ms/step - accuracy: 0.9689 - loss: 0.1534 - val_accuracy: 0.9667 - val_loss: 0.1709\n",
            "Epoch 25/100\n",
            "\u001b[1m126/126\u001b[0m \u001b[32m━━━━━━━━━━━━━━━━━━━━\u001b[0m\u001b[37m\u001b[0m \u001b[1m28s\u001b[0m 221ms/step - accuracy: 0.9715 - loss: 0.1407 - val_accuracy: 0.9682 - val_loss: 0.1596\n",
            "Epoch 26/100\n",
            "\u001b[1m126/126\u001b[0m \u001b[32m━━━━━━━━━━━━━━━━━━━━\u001b[0m\u001b[37m\u001b[0m \u001b[1m26s\u001b[0m 203ms/step - accuracy: 0.9757 - loss: 0.1240 - val_accuracy: 0.9686 - val_loss: 0.1520\n",
            "Epoch 27/100\n",
            "\u001b[1m126/126\u001b[0m \u001b[32m━━━━━━━━━━━━━━━━━━━━\u001b[0m\u001b[37m\u001b[0m \u001b[1m27s\u001b[0m 215ms/step - accuracy: 0.9771 - loss: 0.1155 - val_accuracy: 0.9725 - val_loss: 0.1436\n",
            "Epoch 28/100\n",
            "\u001b[1m126/126\u001b[0m \u001b[32m━━━━━━━━━━━━━━━━━━━━\u001b[0m\u001b[37m\u001b[0m \u001b[1m26s\u001b[0m 205ms/step - accuracy: 0.9796 - loss: 0.1029 - val_accuracy: 0.9730 - val_loss: 0.1399\n",
            "Epoch 29/100\n",
            "\u001b[1m126/126\u001b[0m \u001b[32m━━━━━━━━━━━━━━━━━━━━\u001b[0m\u001b[37m\u001b[0m \u001b[1m27s\u001b[0m 213ms/step - accuracy: 0.9800 - loss: 0.0978 - val_accuracy: 0.9753 - val_loss: 0.1319\n",
            "Epoch 30/100\n",
            "\u001b[1m126/126\u001b[0m \u001b[32m━━━━━━━━━━━━━━━━━━━━\u001b[0m\u001b[37m\u001b[0m \u001b[1m27s\u001b[0m 218ms/step - accuracy: 0.9831 - loss: 0.0880 - val_accuracy: 0.9750 - val_loss: 0.1253\n",
            "Epoch 31/100\n",
            "\u001b[1m126/126\u001b[0m \u001b[32m━━━━━━━━━━━━━━━━━━━━\u001b[0m\u001b[37m\u001b[0m \u001b[1m27s\u001b[0m 217ms/step - accuracy: 0.9831 - loss: 0.0829 - val_accuracy: 0.9772 - val_loss: 0.1208\n",
            "Epoch 32/100\n",
            "\u001b[1m126/126\u001b[0m \u001b[32m━━━━━━━━━━━━━━━━━━━━\u001b[0m\u001b[37m\u001b[0m \u001b[1m40s\u001b[0m 207ms/step - accuracy: 0.9855 - loss: 0.0735 - val_accuracy: 0.9783 - val_loss: 0.1163\n",
            "Epoch 33/100\n",
            "\u001b[1m126/126\u001b[0m \u001b[32m━━━━━━━━━━━━━━━━━━━━\u001b[0m\u001b[37m\u001b[0m \u001b[1m26s\u001b[0m 208ms/step - accuracy: 0.9859 - loss: 0.0715 - val_accuracy: 0.9799 - val_loss: 0.1125\n",
            "Epoch 34/100\n",
            "\u001b[1m126/126\u001b[0m \u001b[32m━━━━━━━━━━━━━━━━━━━━\u001b[0m\u001b[37m\u001b[0m \u001b[1m27s\u001b[0m 218ms/step - accuracy: 0.9877 - loss: 0.0642 - val_accuracy: 0.9792 - val_loss: 0.1144\n",
            "Epoch 35/100\n",
            "\u001b[1m126/126\u001b[0m \u001b[32m━━━━━━━━━━━━━━━━━━━━\u001b[0m\u001b[37m\u001b[0m \u001b[1m26s\u001b[0m 207ms/step - accuracy: 0.9885 - loss: 0.0606 - val_accuracy: 0.9806 - val_loss: 0.1103\n",
            "Epoch 36/100\n",
            "\u001b[1m126/126\u001b[0m \u001b[32m━━━━━━━━━━━━━━━━━━━━\u001b[0m\u001b[37m\u001b[0m \u001b[1m26s\u001b[0m 208ms/step - accuracy: 0.9889 - loss: 0.0570 - val_accuracy: 0.9806 - val_loss: 0.1057\n",
            "Epoch 37/100\n",
            "\u001b[1m126/126\u001b[0m \u001b[32m━━━━━━━━━━━━━━━━━━━━\u001b[0m\u001b[37m\u001b[0m \u001b[1m26s\u001b[0m 208ms/step - accuracy: 0.9901 - loss: 0.0513 - val_accuracy: 0.9818 - val_loss: 0.1033\n",
            "Epoch 38/100\n",
            "\u001b[1m126/126\u001b[0m \u001b[32m━━━━━━━━━━━━━━━━━━━━\u001b[0m\u001b[37m\u001b[0m \u001b[1m26s\u001b[0m 207ms/step - accuracy: 0.9912 - loss: 0.0472 - val_accuracy: 0.9822 - val_loss: 0.1016\n",
            "Epoch 39/100\n",
            "\u001b[1m126/126\u001b[0m \u001b[32m━━━━━━━━━━━━━━━━━━━━\u001b[0m\u001b[37m\u001b[0m \u001b[1m42s\u001b[0m 219ms/step - accuracy: 0.9894 - loss: 0.0519 - val_accuracy: 0.9816 - val_loss: 0.1001\n",
            "Epoch 40/100\n",
            "\u001b[1m126/126\u001b[0m \u001b[32m━━━━━━━━━━━━━━━━━━━━\u001b[0m\u001b[37m\u001b[0m \u001b[1m26s\u001b[0m 208ms/step - accuracy: 0.9924 - loss: 0.0426 - val_accuracy: 0.9831 - val_loss: 0.0962\n",
            "Epoch 41/100\n",
            "\u001b[1m126/126\u001b[0m \u001b[32m━━━━━━━━━━━━━━━━━━━━\u001b[0m\u001b[37m\u001b[0m \u001b[1m26s\u001b[0m 208ms/step - accuracy: 0.9916 - loss: 0.0432 - val_accuracy: 0.9835 - val_loss: 0.0954\n",
            "Epoch 42/100\n",
            "\u001b[1m126/126\u001b[0m \u001b[32m━━━━━━━━━━━━━━━━━━━━\u001b[0m\u001b[37m\u001b[0m \u001b[1m26s\u001b[0m 208ms/step - accuracy: 0.9918 - loss: 0.0423 - val_accuracy: 0.9828 - val_loss: 0.0968\n",
            "Epoch 43/100\n",
            "\u001b[1m126/126\u001b[0m \u001b[32m━━━━━━━━━━━━━━━━━━━━\u001b[0m\u001b[37m\u001b[0m \u001b[1m26s\u001b[0m 207ms/step - accuracy: 0.9928 - loss: 0.0377 - val_accuracy: 0.9835 - val_loss: 0.0948\n",
            "Epoch 44/100\n",
            "\u001b[1m126/126\u001b[0m \u001b[32m━━━━━━━━━━━━━━━━━━━━\u001b[0m\u001b[37m\u001b[0m \u001b[1m27s\u001b[0m 218ms/step - accuracy: 0.9934 - loss: 0.0354 - val_accuracy: 0.9828 - val_loss: 0.0955\n",
            "Epoch 45/100\n",
            "\u001b[1m126/126\u001b[0m \u001b[32m━━━━━━━━━━━━━━━━━━━━\u001b[0m\u001b[37m\u001b[0m \u001b[1m26s\u001b[0m 208ms/step - accuracy: 0.9930 - loss: 0.0350 - val_accuracy: 0.9837 - val_loss: 0.0931\n",
            "Epoch 46/100\n",
            "\u001b[1m126/126\u001b[0m \u001b[32m━━━━━━━━━━━━━━━━━━━━\u001b[0m\u001b[37m\u001b[0m \u001b[1m26s\u001b[0m 208ms/step - accuracy: 0.9940 - loss: 0.0316 - val_accuracy: 0.9852 - val_loss: 0.0912\n",
            "Epoch 47/100\n",
            "\u001b[1m126/126\u001b[0m \u001b[32m━━━━━━━━━━━━━━━━━━━━\u001b[0m\u001b[37m\u001b[0m \u001b[1m26s\u001b[0m 207ms/step - accuracy: 0.9932 - loss: 0.0316 - val_accuracy: 0.9829 - val_loss: 0.0905\n",
            "Epoch 48/100\n",
            "\u001b[1m126/126\u001b[0m \u001b[32m━━━━━━━━━━━━━━━━━━━━\u001b[0m\u001b[37m\u001b[0m \u001b[1m26s\u001b[0m 208ms/step - accuracy: 0.9935 - loss: 0.0317 - val_accuracy: 0.9842 - val_loss: 0.0926\n",
            "Epoch 49/100\n",
            "\u001b[1m126/126\u001b[0m \u001b[32m━━━━━━━━━━━━━━━━━━━━\u001b[0m\u001b[37m\u001b[0m \u001b[1m41s\u001b[0m 209ms/step - accuracy: 0.9942 - loss: 0.0311 - val_accuracy: 0.9844 - val_loss: 0.0898\n",
            "Epoch 50/100\n",
            "\u001b[1m126/126\u001b[0m \u001b[32m━━━━━━━━━━━━━━━━━━━━\u001b[0m\u001b[37m\u001b[0m \u001b[1m26s\u001b[0m 210ms/step - accuracy: 0.9951 - loss: 0.0262 - val_accuracy: 0.9837 - val_loss: 0.0926\n",
            "Epoch 51/100\n",
            "\u001b[1m126/126\u001b[0m \u001b[32m━━━━━━━━━━━━━━━━━━━━\u001b[0m\u001b[37m\u001b[0m \u001b[1m26s\u001b[0m 210ms/step - accuracy: 0.9950 - loss: 0.0263 - val_accuracy: 0.9858 - val_loss: 0.0882\n",
            "Epoch 52/100\n",
            "\u001b[1m126/126\u001b[0m \u001b[32m━━━━━━━━━━━━━━━━━━━━\u001b[0m\u001b[37m\u001b[0m \u001b[1m26s\u001b[0m 208ms/step - accuracy: 0.9928 - loss: 0.0337 - val_accuracy: 0.9840 - val_loss: 0.0915\n",
            "Epoch 53/100\n",
            "\u001b[1m126/126\u001b[0m \u001b[32m━━━━━━━━━━━━━━━━━━━━\u001b[0m\u001b[37m\u001b[0m \u001b[1m28s\u001b[0m 221ms/step - accuracy: 0.9941 - loss: 0.0268 - val_accuracy: 0.9855 - val_loss: 0.0878\n",
            "Epoch 54/100\n",
            "\u001b[1m126/126\u001b[0m \u001b[32m━━━━━━━━━━━━━━━━━━━━\u001b[0m\u001b[37m\u001b[0m \u001b[1m40s\u001b[0m 211ms/step - accuracy: 0.9964 - loss: 0.0210 - val_accuracy: 0.9847 - val_loss: 0.0899\n",
            "Epoch 55/100\n",
            "\u001b[1m126/126\u001b[0m \u001b[32m━━━━━━━━━━━━━━━━━━━━\u001b[0m\u001b[37m\u001b[0m \u001b[1m27s\u001b[0m 211ms/step - accuracy: 0.9962 - loss: 0.0199 - val_accuracy: 0.9848 - val_loss: 0.0902\n",
            "Epoch 56/100\n",
            "\u001b[1m126/126\u001b[0m \u001b[32m━━━━━━━━━━━━━━━━━━━━\u001b[0m\u001b[37m\u001b[0m \u001b[1m42s\u001b[0m 220ms/step - accuracy: 0.9958 - loss: 0.0207 - val_accuracy: 0.9853 - val_loss: 0.0898\n",
            "Epoch 57/100\n",
            "\u001b[1m126/126\u001b[0m \u001b[32m━━━━━━━━━━━━━━━━━━━━\u001b[0m\u001b[37m\u001b[0m \u001b[1m29s\u001b[0m 227ms/step - accuracy: 0.9969 - loss: 0.0182 - val_accuracy: 0.9862 - val_loss: 0.0879\n",
            "Epoch 58/100\n",
            "\u001b[1m126/126\u001b[0m \u001b[32m━━━━━━━━━━━━━━━━━━━━\u001b[0m\u001b[37m\u001b[0m \u001b[1m26s\u001b[0m 209ms/step - accuracy: 0.9970 - loss: 0.0172 - val_accuracy: 0.9858 - val_loss: 0.0879\n",
            "Epoch 59/100\n",
            "\u001b[1m126/126\u001b[0m \u001b[32m━━━━━━━━━━━━━━━━━━━━\u001b[0m\u001b[37m\u001b[0m \u001b[1m26s\u001b[0m 207ms/step - accuracy: 0.9967 - loss: 0.0176 - val_accuracy: 0.9862 - val_loss: 0.0864\n",
            "Epoch 60/100\n",
            "\u001b[1m126/126\u001b[0m \u001b[32m━━━━━━━━━━━━━━━━━━━━\u001b[0m\u001b[37m\u001b[0m \u001b[1m27s\u001b[0m 218ms/step - accuracy: 0.9957 - loss: 0.0194 - val_accuracy: 0.9865 - val_loss: 0.0863\n",
            "Epoch 61/100\n",
            "\u001b[1m126/126\u001b[0m \u001b[32m━━━━━━━━━━━━━━━━━━━━\u001b[0m\u001b[37m\u001b[0m \u001b[1m26s\u001b[0m 208ms/step - accuracy: 0.9956 - loss: 0.0195 - val_accuracy: 0.9863 - val_loss: 0.0856\n",
            "Epoch 62/100\n",
            "\u001b[1m126/126\u001b[0m \u001b[32m━━━━━━━━━━━━━━━━━━━━\u001b[0m\u001b[37m\u001b[0m \u001b[1m41s\u001b[0m 208ms/step - accuracy: 0.9975 - loss: 0.0140 - val_accuracy: 0.9868 - val_loss: 0.0847\n",
            "Epoch 63/100\n",
            "\u001b[1m126/126\u001b[0m \u001b[32m━━━━━━━━━━━━━━━━━━━━\u001b[0m\u001b[37m\u001b[0m \u001b[1m26s\u001b[0m 209ms/step - accuracy: 0.9970 - loss: 0.0152 - val_accuracy: 0.9855 - val_loss: 0.0876\n",
            "Epoch 64/100\n",
            "\u001b[1m126/126\u001b[0m \u001b[32m━━━━━━━━━━━━━━━━━━━━\u001b[0m\u001b[37m\u001b[0m \u001b[1m26s\u001b[0m 209ms/step - accuracy: 0.9971 - loss: 0.0145 - val_accuracy: 0.9861 - val_loss: 0.0821\n",
            "Epoch 65/100\n",
            "\u001b[1m126/126\u001b[0m \u001b[32m━━━━━━━━━━━━━━━━━━━━\u001b[0m\u001b[37m\u001b[0m \u001b[1m26s\u001b[0m 209ms/step - accuracy: 0.9970 - loss: 0.0141 - val_accuracy: 0.9862 - val_loss: 0.0846\n",
            "Epoch 66/100\n",
            "\u001b[1m126/126\u001b[0m \u001b[32m━━━━━━━━━━━━━━━━━━━━\u001b[0m\u001b[37m\u001b[0m \u001b[1m28s\u001b[0m 219ms/step - accuracy: 0.9974 - loss: 0.0138 - val_accuracy: 0.9856 - val_loss: 0.0855\n",
            "Epoch 67/100\n",
            "\u001b[1m126/126\u001b[0m \u001b[32m━━━━━━━━━━━━━━━━━━━━\u001b[0m\u001b[37m\u001b[0m \u001b[1m39s\u001b[0m 206ms/step - accuracy: 0.9973 - loss: 0.0132 - val_accuracy: 0.9865 - val_loss: 0.0856\n",
            "Epoch 68/100\n",
            "\u001b[1m126/126\u001b[0m \u001b[32m━━━━━━━━━━━━━━━━━━━━\u001b[0m\u001b[37m\u001b[0m \u001b[1m26s\u001b[0m 207ms/step - accuracy: 0.9971 - loss: 0.0145 - val_accuracy: 0.9876 - val_loss: 0.0846\n",
            "Epoch 69/100\n",
            "\u001b[1m126/126\u001b[0m \u001b[32m━━━━━━━━━━━━━━━━━━━━\u001b[0m\u001b[37m\u001b[0m \u001b[1m26s\u001b[0m 206ms/step - accuracy: 0.9972 - loss: 0.0123 - val_accuracy: 0.9867 - val_loss: 0.0872\n",
            "Epoch 70/100\n",
            "\u001b[1m126/126\u001b[0m \u001b[32m━━━━━━━━━━━━━━━━━━━━\u001b[0m\u001b[37m\u001b[0m \u001b[1m26s\u001b[0m 207ms/step - accuracy: 0.9977 - loss: 0.0124 - val_accuracy: 0.9872 - val_loss: 0.0863\n",
            "Epoch 71/100\n",
            "\u001b[1m126/126\u001b[0m \u001b[32m━━━━━━━━━━━━━━━━━━━━\u001b[0m\u001b[37m\u001b[0m \u001b[1m27s\u001b[0m 217ms/step - accuracy: 0.9976 - loss: 0.0128 - val_accuracy: 0.9867 - val_loss: 0.0856\n",
            "Epoch 72/100\n",
            "\u001b[1m126/126\u001b[0m \u001b[32m━━━━━━━━━━━━━━━━━━━━\u001b[0m\u001b[37m\u001b[0m \u001b[1m26s\u001b[0m 206ms/step - accuracy: 0.9973 - loss: 0.0120 - val_accuracy: 0.9866 - val_loss: 0.0868\n",
            "Epoch 73/100\n",
            "\u001b[1m126/126\u001b[0m \u001b[32m━━━━━━━━━━━━━━━━━━━━\u001b[0m\u001b[37m\u001b[0m \u001b[1m26s\u001b[0m 206ms/step - accuracy: 0.9973 - loss: 0.0120 - val_accuracy: 0.9869 - val_loss: 0.0848\n",
            "Epoch 74/100\n",
            "\u001b[1m126/126\u001b[0m \u001b[32m━━━━━━━━━━━━━━━━━━━━\u001b[0m\u001b[37m\u001b[0m \u001b[1m26s\u001b[0m 204ms/step - accuracy: 0.9969 - loss: 0.0137 - val_accuracy: 0.9866 - val_loss: 0.0873\n",
            "Epoch 75/100\n",
            "\u001b[1m126/126\u001b[0m \u001b[32m━━━━━━━━━━━━━━━━━━━━\u001b[0m\u001b[37m\u001b[0m \u001b[1m26s\u001b[0m 207ms/step - accuracy: 0.9978 - loss: 0.0107 - val_accuracy: 0.9871 - val_loss: 0.0835\n",
            "Epoch 76/100\n",
            "\u001b[1m126/126\u001b[0m \u001b[32m━━━━━━━━━━━━━━━━━━━━\u001b[0m\u001b[37m\u001b[0m \u001b[1m27s\u001b[0m 218ms/step - accuracy: 0.9979 - loss: 0.0104 - val_accuracy: 0.9872 - val_loss: 0.0852\n",
            "Epoch 77/100\n",
            "\u001b[1m126/126\u001b[0m \u001b[32m━━━━━━━━━━━━━━━━━━━━\u001b[0m\u001b[37m\u001b[0m \u001b[1m26s\u001b[0m 209ms/step - accuracy: 0.9977 - loss: 0.0103 - val_accuracy: 0.9878 - val_loss: 0.0827\n",
            "Epoch 78/100\n",
            "\u001b[1m126/126\u001b[0m \u001b[32m━━━━━━━━━━━━━━━━━━━━\u001b[0m\u001b[37m\u001b[0m \u001b[1m26s\u001b[0m 208ms/step - accuracy: 0.9975 - loss: 0.0115 - val_accuracy: 0.9878 - val_loss: 0.0838\n",
            "Epoch 79/100\n",
            "\u001b[1m126/126\u001b[0m \u001b[32m━━━━━━━━━━━━━━━━━━━━\u001b[0m\u001b[37m\u001b[0m \u001b[1m26s\u001b[0m 209ms/step - accuracy: 0.9975 - loss: 0.0114 - val_accuracy: 0.9875 - val_loss: 0.0838\n",
            "Epoch 80/100\n",
            "\u001b[1m126/126\u001b[0m \u001b[32m━━━━━━━━━━━━━━━━━━━━\u001b[0m\u001b[37m\u001b[0m \u001b[1m41s\u001b[0m 211ms/step - accuracy: 0.9971 - loss: 0.0113 - val_accuracy: 0.9886 - val_loss: 0.0856\n",
            "Epoch 81/100\n",
            "\u001b[1m126/126\u001b[0m \u001b[32m━━━━━━━━━━━━━━━━━━━━\u001b[0m\u001b[37m\u001b[0m \u001b[1m28s\u001b[0m 222ms/step - accuracy: 0.9977 - loss: 0.0100 - val_accuracy: 0.9878 - val_loss: 0.0856\n",
            "Epoch 82/100\n",
            "\u001b[1m126/126\u001b[0m \u001b[32m━━━━━━━━━━━━━━━━━━━━\u001b[0m\u001b[37m\u001b[0m \u001b[1m39s\u001b[0m 207ms/step - accuracy: 0.9979 - loss: 0.0098 - val_accuracy: 0.9877 - val_loss: 0.0849\n",
            "Epoch 83/100\n",
            "\u001b[1m126/126\u001b[0m \u001b[32m━━━━━━━━━━━━━━━━━━━━\u001b[0m\u001b[37m\u001b[0m \u001b[1m26s\u001b[0m 209ms/step - accuracy: 0.9980 - loss: 0.0090 - val_accuracy: 0.9869 - val_loss: 0.0885\n",
            "Epoch 84/100\n",
            "\u001b[1m126/126\u001b[0m \u001b[32m━━━━━━━━━━━━━━━━━━━━\u001b[0m\u001b[37m\u001b[0m \u001b[1m26s\u001b[0m 209ms/step - accuracy: 0.9982 - loss: 0.0086 - val_accuracy: 0.9873 - val_loss: 0.0866\n",
            "Epoch 85/100\n",
            "\u001b[1m126/126\u001b[0m \u001b[32m━━━━━━━━━━━━━━━━━━━━\u001b[0m\u001b[37m\u001b[0m \u001b[1m41s\u001b[0m 209ms/step - accuracy: 0.9982 - loss: 0.0080 - val_accuracy: 0.9876 - val_loss: 0.0878\n",
            "Epoch 86/100\n",
            "\u001b[1m126/126\u001b[0m \u001b[32m━━━━━━━━━━━━━━━━━━━━\u001b[0m\u001b[37m\u001b[0m \u001b[1m26s\u001b[0m 208ms/step - accuracy: 0.9975 - loss: 0.0093 - val_accuracy: 0.9884 - val_loss: 0.0867\n",
            "Epoch 87/100\n",
            "\u001b[1m126/126\u001b[0m \u001b[32m━━━━━━━━━━━━━━━━━━━━\u001b[0m\u001b[37m\u001b[0m \u001b[1m41s\u001b[0m 209ms/step - accuracy: 0.9984 - loss: 0.0074 - val_accuracy: 0.9878 - val_loss: 0.0878\n",
            "Epoch 88/100\n",
            "\u001b[1m126/126\u001b[0m \u001b[32m━━━━━━━━━━━━━━━━━━━━\u001b[0m\u001b[37m\u001b[0m \u001b[1m26s\u001b[0m 208ms/step - accuracy: 0.9986 - loss: 0.0070 - val_accuracy: 0.9871 - val_loss: 0.0879\n",
            "Epoch 89/100\n",
            "\u001b[1m126/126\u001b[0m \u001b[32m━━━━━━━━━━━━━━━━━━━━\u001b[0m\u001b[37m\u001b[0m \u001b[1m41s\u001b[0m 209ms/step - accuracy: 0.9983 - loss: 0.0078 - val_accuracy: 0.9884 - val_loss: 0.0851\n",
            "Epoch 90/100\n",
            "\u001b[1m126/126\u001b[0m \u001b[32m━━━━━━━━━━━━━━━━━━━━\u001b[0m\u001b[37m\u001b[0m \u001b[1m27s\u001b[0m 216ms/step - accuracy: 0.9983 - loss: 0.0074 - val_accuracy: 0.9876 - val_loss: 0.0868\n",
            "Epoch 91/100\n",
            "\u001b[1m126/126\u001b[0m \u001b[32m━━━━━━━━━━━━━━━━━━━━\u001b[0m\u001b[37m\u001b[0m \u001b[1m40s\u001b[0m 211ms/step - accuracy: 0.9983 - loss: 0.0072 - val_accuracy: 0.9881 - val_loss: 0.0883\n",
            "Epoch 92/100\n",
            "\u001b[1m126/126\u001b[0m \u001b[32m━━━━━━━━━━━━━━━━━━━━\u001b[0m\u001b[37m\u001b[0m \u001b[1m26s\u001b[0m 209ms/step - accuracy: 0.9981 - loss: 0.0078 - val_accuracy: 0.9880 - val_loss: 0.0893\n",
            "Epoch 93/100\n",
            "\u001b[1m126/126\u001b[0m \u001b[32m━━━━━━━━━━━━━━━━━━━━\u001b[0m\u001b[37m\u001b[0m \u001b[1m41s\u001b[0m 210ms/step - accuracy: 0.9976 - loss: 0.0094 - val_accuracy: 0.9887 - val_loss: 0.0844\n",
            "Epoch 94/100\n",
            "\u001b[1m126/126\u001b[0m \u001b[32m━━━━━━━━━━━━━━━━━━━━\u001b[0m\u001b[37m\u001b[0m \u001b[1m26s\u001b[0m 209ms/step - accuracy: 0.9985 - loss: 0.0072 - val_accuracy: 0.9878 - val_loss: 0.0867\n",
            "Epoch 95/100\n",
            "\u001b[1m126/126\u001b[0m \u001b[32m━━━━━━━━━━━━━━━━━━━━\u001b[0m\u001b[37m\u001b[0m \u001b[1m26s\u001b[0m 208ms/step - accuracy: 0.9985 - loss: 0.0064 - val_accuracy: 0.9878 - val_loss: 0.0899\n",
            "Epoch 96/100\n",
            "\u001b[1m126/126\u001b[0m \u001b[32m━━━━━━━━━━━━━━━━━━━━\u001b[0m\u001b[37m\u001b[0m \u001b[1m26s\u001b[0m 210ms/step - accuracy: 0.9981 - loss: 0.0076 - val_accuracy: 0.9887 - val_loss: 0.0877\n",
            "Epoch 97/100\n",
            "\u001b[1m126/126\u001b[0m \u001b[32m━━━━━━━━━━━━━━━━━━━━\u001b[0m\u001b[37m\u001b[0m \u001b[1m27s\u001b[0m 217ms/step - accuracy: 0.9987 - loss: 0.0063 - val_accuracy: 0.9879 - val_loss: 0.0901\n",
            "Epoch 98/100\n",
            "\u001b[1m126/126\u001b[0m \u001b[32m━━━━━━━━━━━━━━━━━━━━\u001b[0m\u001b[37m\u001b[0m \u001b[1m27s\u001b[0m 211ms/step - accuracy: 0.9978 - loss: 0.0077 - val_accuracy: 0.9889 - val_loss: 0.0864\n",
            "Epoch 99/100\n",
            "\u001b[1m126/126\u001b[0m \u001b[32m━━━━━━━━━━━━━━━━━━━━\u001b[0m\u001b[37m\u001b[0m \u001b[1m26s\u001b[0m 209ms/step - accuracy: 0.9984 - loss: 0.0063 - val_accuracy: 0.9883 - val_loss: 0.0874\n",
            "Epoch 100/100\n",
            "\u001b[1m126/126\u001b[0m \u001b[32m━━━━━━━━━━━━━━━━━━━━\u001b[0m\u001b[37m\u001b[0m \u001b[1m26s\u001b[0m 210ms/step - accuracy: 0.9984 - loss: 0.0062 - val_accuracy: 0.9882 - val_loss: 0.0883\n",
            "\n",
            " Training Completed!\n"
          ]
        }
      ]
    },
    {
      "cell_type": "code",
      "source": [
        "#save model weights\n",
        "model_lstm.save_weights('bi_lstm.weights.h5')\n",
        "print(\"Model weights saved successfully.\")"
      ],
      "metadata": {
        "colab": {
          "base_uri": "https://localhost:8080/"
        },
        "id": "6Snvjhm1AM_X",
        "outputId": "cf5165b5-fe2e-4313-b743-3bb9b71ca949"
      },
      "execution_count": 18,
      "outputs": [
        {
          "output_type": "stream",
          "name": "stdout",
          "text": [
            "Model weights saved successfully.\n"
          ]
        }
      ]
    },
    {
      "cell_type": "code",
      "source": [
        "#visualisasi\n",
        "import matplotlib.pyplot as plt\n",
        "plt.figure(figsize=(10, 6))\n",
        "\n",
        "\n",
        "#akurasi\n",
        "plt.subplot(1, 2, 1)\n",
        "plt.plot(history.history['accuracy'], label='Training Accuracy')\n",
        "plt.plot(history.history['val_accuracy'], label='Validation Accuracy')\n",
        "plt.xlabel('Epoch')\n",
        "plt.ylabel('Accuracy')\n",
        "plt.title('Training and Validation Accuracy')\n",
        "plt.legend()\n",
        "\n",
        "#loss\n",
        "plt.subplot(1, 2, 2)\n",
        "plt.plot(history.history['loss'], label='Training Loss')\n",
        "plt.plot(history.history['val_loss'], label='Validation Loss')\n",
        "plt.xlabel('Epoch')\n",
        "plt.ylabel('Loss')\n",
        "plt.title('Training and Validation Loss')\n",
        "plt.legend()\n",
        "\n",
        "plt.tight_layout()\n",
        "plt.savefig(\"training_visualization.png\", dpi=300)\n",
        "plt.show()"
      ],
      "metadata": {
        "colab": {
          "base_uri": "https://localhost:8080/",
          "height": 505
        },
        "id": "YD2jsxxCAOwI",
        "outputId": "abbaf835-15cd-40b9-f51b-9bc9cb8ae9d2"
      },
      "execution_count": 20,
      "outputs": [
        {
          "output_type": "display_data",
          "data": {
            "text/plain": [
              "<Figure size 1000x600 with 2 Axes>"
            ],
            "image/png": "[encoded data removed]"
          },
          "metadata": {}
        }
      ]
    },
    {
      "cell_type": "code",
      "source": [
        "def make_inference_models(vocab_size):\n",
        "    full_model, enc_inputs, enc_outputs, enc_states, dec_inputs, dec_embedding_layer, dec_lstm, dec_dense = model(vocab_size)\n",
        "\n",
        "    full_model.load_weights(f\"./bi_lstm.weights.h5\")\n",
        "\n",
        "    # Model ini mengambil input (pertanyaan) dan mengembalikan output encoder dan final states\n",
        "    enc_model = Model(enc_inputs, [enc_outputs] + enc_states)\n",
        "    # Input tambahan untuk decoder inference\n",
        "    enc_out_input = Input(shape=(None, HIDDEN_DIM*2), name='encoder_output_inf')\n",
        "    dec_state_input_h = Input(shape=(HIDDEN_DIM*2,), name='decoder_state_h_inf')\n",
        "    dec_state_input_c = Input(shape=(HIDDEN_DIM*2,), name='decoder_state_c_inf')\n",
        "    dec_states_inputs = [dec_state_input_h, dec_state_input_c]\n",
        "    dec_emb2 = dec_embedding_layer(dec_inputs)\n",
        "\n",
        "    # LSTM Decoder\n",
        "    dec_outputs2, state_h2, state_c2 = dec_lstm(dec_emb2, initial_state=dec_states_inputs)\n",
        "\n",
        "    # Attention di dalam decoder inference\n",
        "    attention2 = Dot(axes=[2, 2])([dec_outputs2, enc_out_input])\n",
        "    attention2 = Activation('softmax')(attention2)\n",
        "    context2 = Dot(axes=[2, 1])([attention2, enc_out_input])\n",
        "    dec_combined_context2 = Concatenate(axis=-1)([context2, dec_outputs2])\n",
        "\n",
        "    # Dense Layer untuk prediksi kata\n",
        "    dec_outputs2 = dec_dense(dec_combined_context2)\n",
        "\n",
        "    dec_model = Model(\n",
        "        [dec_inputs, enc_out_input] + dec_states_inputs,\n",
        "        [dec_outputs2, state_h2, state_c2]\n",
        "    )\n",
        "\n",
        "    return enc_model, dec_model\n",
        "\n",
        "# Inisialisasi model\n",
        "encoder_model, decoder_model = make_inference_models(VOCAB_SIZE)"
      ],
      "metadata": {
        "id": "AuLyPbHLASpP"
      },
      "execution_count": 21,
      "outputs": []
    },
    {
      "cell_type": "code",
      "source": [
        "def str_to_tokens(sentence: str):\n",
        "    words = sentence.lower().split()\n",
        "    tokens_list = [tokenizer.word_index.get(w, 0) for w in words if tokenizer.word_index.get(w, 0) > 0]\n",
        "    return pad_sequences([tokens_list], maxlen=maxlen_questions, padding='post')\n",
        "try:\n",
        "    START_TOKEN_STR = '<start>'\n",
        "    END_TOKEN_STR = '<end>'\n",
        "    START_TOKEN_INDEX = tokenizer.word_index[START_TOKEN_STR]\n",
        "    END_TOKEN_INDEX = tokenizer.word_index[END_TOKEN_STR]\n",
        "except KeyError:\n",
        "    START_TOKEN_STR = 'start'\n",
        "    END_TOKEN_STR = 'end'\n",
        "    START_TOKEN_INDEX = tokenizer.word_index[START_TOKEN_STR]\n",
        "    END_TOKEN_INDEX = tokenizer.word_index[END_TOKEN_STR]\n",
        "\n",
        "# Buat reverse_word_index untuk mapping yang efisien\n",
        "reverse_word_index = {v: k for k, v in tokenizer.word_index.items()}\n",
        "print(\"\\n--- Chatbot Inference Aktif ---\")\n",
        "print(f\"Menggunakan token START: '{START_TOKEN_STR}', END: '{END_TOKEN_STR}'\")\n",
        "\n",
        "while True:\n",
        "    input_text = input(\"You: \")\n",
        "    if input_text.lower() == \"exit\":\n",
        "        break\n",
        "\n",
        "    # Hilangkan verbose=0 jika Anda ingin melihat output progress bar\n",
        "    enc_outs, h, c = encoder_model.predict(str_to_tokens(input_text), verbose=0)\n",
        "    states_values = [h, c]\n",
        "    empty_target_seq = np.zeros((1, 1))\n",
        "\n",
        "    # KOREKSI UTAMA: Menggunakan index token yang sudah ditentukan\n",
        "    empty_target_seq[0, 0] = START_TOKEN_INDEX\n",
        "\n",
        "    stop_condition = False\n",
        "    decoded_sentence = \"\"\n",
        "\n",
        "    while not stop_condition:\n",
        "        # Hilangkan verbose=0 jika Anda ingin melihat output progress bar\n",
        "        dec_outputs, h, c = decoder_model.predict([empty_target_seq, enc_outs] + states_values, verbose=0)\n",
        "        sampled_token_index = np.argmax(dec_outputs[0, -1, :])\n",
        "\n",
        "        # Mapping Index ke Kata (menggunakan reverse_word_index yang lebih cepat)\n",
        "        sampled_word = reverse_word_index.get(sampled_token_index)\n",
        "\n",
        "        # 1. Kriteria Penghentian\n",
        "        # Hentikan jika memprediksi token END\n",
        "        if sampled_token_index == END_TOKEN_INDEX:\n",
        "            stop_condition = True\n",
        "        # Hentikan jika mencapai max length jawaban\n",
        "        elif len(decoded_sentence.split()) >= maxlen_answers:\n",
        "            stop_condition = True\n",
        "\n",
        "        # 2. Pembangun Kalimat\n",
        "        # Tambahkan kata ke kalimat (hindari penambahan token start/end atau token tak dikenal)\n",
        "        elif sampled_word is not None and sampled_token_index != START_TOKEN_INDEX:\n",
        "            # Hilangkan token khusus dari output yang ditampilkan\n",
        "            if sampled_word not in [START_TOKEN_STR, END_TOKEN_STR]:\n",
        "                decoded_sentence += sampled_word + \" \"\n",
        "\n",
        "        # 3. SIAPKAN INPUT DECODER BERIKUTNYA\n",
        "        empty_target_seq = np.zeros((1, 1))\n",
        "        empty_target_seq[0, 0] = sampled_token_index\n",
        "        states_values = [h, c]\n",
        "\n",
        "    print(\"Chatbot:\", decoded_sentence.strip())"
      ],
      "metadata": {
        "colab": {
          "base_uri": "https://localhost:8080/"
        },
        "id": "39XlvUVDAjhW",
        "outputId": "7a45ee4d-00b0-4a08-d9b4-f93a2e9bcb46"
      },
      "execution_count": 22,
      "outputs": [
        {
          "name": "stdout",
          "output_type": "stream",
          "text": [
            "\n",
            "--- Chatbot Inference Aktif ---\n",
            "Menggunakan token START: 'start', END: 'end'\n",
            "You: selamat siang\n",
            "Chatbot: selamat siang juga\n",
            "You: nama kamu siapa?\n",
            "Chatbot: hai saya modera ai\n",
            "You: siapa kamu\n",
            "Chatbot: saya dikembangkan oleh tim riset universitas islam negeri sultan syarif kasim riau\n",
            "You: exit\n"
          ]
        }
      ]
    },
    {
      "cell_type": "code",
      "source": [
        "# === Setelah build inference model ===\n",
        "encoder_model.save(\"encoder_model.h5\")\n",
        "decoder_model.save(\"decoder_model.h5\")\n",
        "\n",
        "print(\"✅ Encoder & Decoder inference models saved!\")"
      ],
      "metadata": {
        "colab": {
          "base_uri": "https://localhost:8080/"
        },
        "id": "Z2YzjX1IA4Ny",
        "outputId": "ef19fdb7-f182-4bb0-8e42-3bb4b791f2c6"
      },
      "execution_count": 25,
      "outputs": [
        {
          "output_type": "stream",
          "name": "stderr",
          "text": [
            "WARNING:absl:You are saving your model as an HDF5 file via `model.save()` or `keras.saving.save_model(model)`. This file format is considered legacy. We recommend using instead the native Keras format, e.g. `model.save('my_model.keras')` or `keras.saving.save_model(model, 'my_model.keras')`. \n",
            "WARNING:absl:You are saving your model as an HDF5 file via `model.save()` or `keras.saving.save_model(model)`. This file format is considered legacy. We recommend using instead the native Keras format, e.g. `model.save('my_model.keras')` or `keras.saving.save_model(model, 'my_model.keras')`. \n"
          ]
        },
        {
          "output_type": "stream",
          "name": "stdout",
          "text": [
            "✅ Encoder & Decoder inference models saved!\n"
          ]
        }
      ]
    },
    {
      "cell_type": "code",
      "source": [
        "import json\n",
        "\n",
        "# Asumsi model_lstm adalah model Keras yang sudah Anda latih\n",
        "# Pastikan Anda sudah menjalankan model.py untuk mendapatkan fungsi create_model_architecture\n",
        "# Anda perlu memanggil fungsi ini di Colab Anda:\n",
        "# model_lstm = create_model_architecture(VOCAB_SIZE)[0]\n",
        "\n",
        "def save_model_architecture(model_lstm, filename='full_model_architecture.json'):\n",
        "    # Konversi arsitektur ke JSON string\n",
        "    model_json = model_lstm.to_json()\n",
        "\n",
        "    # Simpan ke file\n",
        "    with open(filename, \"w\") as json_file:\n",
        "        json_file.write(model_json)\n",
        "    print(f\"[*] Arsitektur model berhasil disimpan sebagai {filename}\")\n",
        "\n",
        "# Contoh memanggil fungsi ini di Colab Anda\n",
        "save_model_architecture(model_lstm)"
      ],
      "metadata": {
        "colab": {
          "base_uri": "https://localhost:8080/"
        },
        "id": "t-k2uuoyA5lt",
        "outputId": "8a829759-1a27-4bf1-b3bb-5d95f23ccf31"
      },
      "execution_count": 24,
      "outputs": [
        {
          "output_type": "stream",
          "name": "stdout",
          "text": [
            "[*] Arsitektur model berhasil disimpan sebagai full_model_architecture.json\n"
          ]
        }
      ]
    },
    {
      "cell_type": "code",
      "source": [
        "pip freeze > requirements.txt\n"
      ],
      "metadata": {
        "id": "Zdh8gBAtHcOv"
      },
      "execution_count": null,
      "outputs": []
    }
  ]
}